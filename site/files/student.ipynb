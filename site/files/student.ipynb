{
 "cells": [
  {
   "cell_type": "code",
   "execution_count": 1,
   "id": "82ae372e-3015-4b1c-a6c1-1b5866298084",
   "metadata": {},
   "outputs": [],
   "source": [
    "import piplite\n",
    "await piplite.install(\"requests\")\n",
    "from communication import send_answer"
   ]
  },
  {
   "cell_type": "code",
   "execution_count": 2,
   "id": "6fe88c2a-05c8-4081-abb3-1a1bbbead0ba",
   "metadata": {},
   "outputs": [
    {
     "name": "stdout",
     "output_type": "stream",
     "text": [
      "from communication import send_answer\n"
     ]
    },
    {
     "name": "stdin",
     "output_type": "stream",
     "text": [
      "\n",
      "Send this answer (Y/n)?    y\n"
     ]
    },
    {
     "name": "stdout",
     "output_type": "stream",
     "text": [
      "Received as answer number 1.\n"
     ]
    }
   ],
   "source": [
    "answer_url = \"http://192.168.1.224:8000\"\n",
    "\n",
    "send_answer(answer_url, 1)"
   ]
  },
  {
   "cell_type": "code",
   "execution_count": null,
   "id": "2181cab3-4788-4e90-a280-03714aad8bb5",
   "metadata": {},
   "outputs": [],
   "source": []
  }
 ],
 "metadata": {
  "kernelspec": {
   "display_name": "Python 3 (ipykernel)",
   "language": "python",
   "name": "python3"
  },
  "language_info": {
   "codemirror_mode": {
    "name": "ipython",
    "version": 3
   },
   "file_extension": ".py",
   "mimetype": "text/x-python",
   "name": "python",
   "nbconvert_exporter": "python",
   "pygments_lexer": "ipython3",
   "version": "3.11.9"
  }
 },
 "nbformat": 4,
 "nbformat_minor": 5
}
