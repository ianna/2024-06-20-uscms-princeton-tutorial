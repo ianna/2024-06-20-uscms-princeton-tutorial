{
 "cells": [
  {
   "cell_type": "markdown",
   "id": "8329fdb5-c161-43a2-bb70-e4a023744066",
   "metadata": {},
   "source": [
    "## This tutorial"
   ]
  },
  {
   "cell_type": "code",
   "execution_count": null,
   "id": "82ae372e-3015-4b1c-a6c1-1b5866298084",
   "metadata": {},
   "outputs": [],
   "source": [
    "import piplite\n",
    "await piplite.install(\"requests\")\n",
    "await piplite.install(\"requests-aws4auth\")\n",
    "from communication import send_answer"
   ]
  },
  {
   "cell_type": "code",
   "execution_count": null,
   "id": "bf7219c7-863d-4bad-8e68-84c017eafc38",
   "metadata": {},
   "outputs": [],
   "source": [
    "print(\"This is a test.\")"
   ]
  },
  {
   "cell_type": "code",
   "execution_count": null,
   "id": "6fe88c2a-05c8-4081-abb3-1a1bbbead0ba",
   "metadata": {},
   "outputs": [],
   "source": [
    "send_answer(2)"
   ]
  },
  {
   "cell_type": "markdown",
   "id": "4d73a4aa-6641-4110-b60f-686e05346919",
   "metadata": {},
   "source": [
    "<br><br><br>"
   ]
  },
  {
   "cell_type": "markdown",
   "id": "ffc8c89d-bb08-4223-ae79-4af92889b332",
   "metadata": {},
   "source": [
    "## Puzzles"
   ]
  },
  {
   "cell_type": "code",
   "execution_count": null,
   "id": "f4c5adeb-e2ee-4fb4-9abf-17ce6d1f7bdf",
   "metadata": {},
   "outputs": [],
   "source": [
    "import zlib\n",
    "import numpy as np\n",
    "import matplotlib.pyplot as plt\n",
    "import matplotlib.image\n",
    "import awkward as ak\n",
    "from hist import Hist\n",
    "import uproot\n",
    "import vector\n",
    "vector.register_awkward()"
   ]
  },
  {
   "cell_type": "markdown",
   "id": "ca660604-f847-418a-b9a0-9d7e80c3c012",
   "metadata": {},
   "source": [
    "<br><br><br>"
   ]
  },
  {
   "cell_type": "markdown",
   "id": "e368e23d-7fc2-4f8f-89f3-9dc6451e130f",
   "metadata": {},
   "source": [
    "### NumPy puzzle 1"
   ]
  },
  {
   "cell_type": "code",
   "execution_count": null,
   "id": "d0f6c22d-ce12-40e8-9ebb-a29262d57f4f",
   "metadata": {},
   "outputs": [],
   "source": [
    "array3d = np.arange(2 * 3 * 5).reshape(2, 3, 5)"
   ]
  },
  {
   "cell_type": "code",
   "execution_count": null,
   "id": "3b1c2f20-3aa4-4232-9325-adcfecdadc18",
   "metadata": {},
   "outputs": [],
   "source": []
  },
  {
   "cell_type": "code",
   "execution_count": null,
   "id": "82c52da7-5bfd-4f7c-8f09-04f03d268f2b",
   "metadata": {},
   "outputs": [],
   "source": []
  },
  {
   "cell_type": "code",
   "execution_count": null,
   "id": "43556394-56ce-4d94-a722-96dbd6757b15",
   "metadata": {},
   "outputs": [],
   "source": []
  },
  {
   "cell_type": "code",
   "execution_count": null,
   "id": "618978fa-18e8-4222-9e73-67e89530556f",
   "metadata": {},
   "outputs": [],
   "source": [
    "send_answer(???)"
   ]
  },
  {
   "cell_type": "markdown",
   "id": "1a7127f4-2029-4216-86de-7474eba2ac9e",
   "metadata": {},
   "source": [
    "<br><br><br>"
   ]
  },
  {
   "cell_type": "markdown",
   "id": "b0dd5c8a-d287-4ef2-83bc-eb404c17a5ab",
   "metadata": {},
   "source": [
    "### NumPy puzzle 2"
   ]
  },
  {
   "cell_type": "code",
   "execution_count": null,
   "id": "b288fa59-dea8-4f48-a0c1-1e4d1527be62",
   "metadata": {},
   "outputs": [],
   "source": [
    "array = np.array([1.1, 2.2, 3.3, 4.4, 5.5, 6.6, 7.7, 8.8, 9.9])"
   ]
  },
  {
   "cell_type": "code",
   "execution_count": null,
   "id": "00336168-624e-435f-ad9f-c6621e868a18",
   "metadata": {},
   "outputs": [],
   "source": []
  },
  {
   "cell_type": "code",
   "execution_count": null,
   "id": "a43f8915-08de-41e9-9a10-404ce8981168",
   "metadata": {},
   "outputs": [],
   "source": []
  },
  {
   "cell_type": "code",
   "execution_count": null,
   "id": "df6d1ca5-0316-4e83-9de9-7dc56627113f",
   "metadata": {},
   "outputs": [],
   "source": []
  },
  {
   "cell_type": "code",
   "execution_count": null,
   "id": "a7ca34ac-8f7d-4032-a56a-fef8727bdcfd",
   "metadata": {},
   "outputs": [],
   "source": [
    "send_answer(???)"
   ]
  },
  {
   "cell_type": "markdown",
   "id": "34ed2f47-6369-48d6-ae8d-33392f2380a3",
   "metadata": {},
   "source": [
    "<br><br><br>"
   ]
  },
  {
   "cell_type": "markdown",
   "id": "79b2b0a6-b73a-49d4-b7d4-b65dd514e8af",
   "metadata": {},
   "source": [
    "### NumPy puzzle 3"
   ]
  },
  {
   "cell_type": "code",
   "execution_count": null,
   "id": "f2bd857b-6287-4ab9-a2a1-f8e292d29aa9",
   "metadata": {},
   "outputs": [],
   "source": [
    "t = np.linspace(0, 2*np.pi, 10000)\n",
    "x = np.sin(3*t)\n",
    "y = np.sin(4*t)"
   ]
  },
  {
   "cell_type": "code",
   "execution_count": null,
   "id": "e204d854-c148-4fbd-8a16-8e547f396000",
   "metadata": {},
   "outputs": [],
   "source": []
  },
  {
   "cell_type": "code",
   "execution_count": null,
   "id": "6cb1b0ec-7eec-4dc2-9a9c-61be4cfece96",
   "metadata": {},
   "outputs": [],
   "source": []
  },
  {
   "cell_type": "code",
   "execution_count": null,
   "id": "db28770e-419a-4c88-9c33-c9538347168c",
   "metadata": {},
   "outputs": [],
   "source": []
  },
  {
   "cell_type": "code",
   "execution_count": null,
   "id": "64fe1df4-6299-42c8-bf9d-90505288fee4",
   "metadata": {},
   "outputs": [],
   "source": [
    "send_answer(???)"
   ]
  },
  {
   "cell_type": "markdown",
   "id": "e46462a5-f837-4b63-b581-77e6e3156c3e",
   "metadata": {},
   "source": [
    "<br><br><br>"
   ]
  },
  {
   "cell_type": "markdown",
   "id": "e739b908-1f2f-4d48-b088-f929c45a6a6a",
   "metadata": {},
   "source": [
    "### NumPy puzzle 4"
   ]
  },
  {
   "cell_type": "code",
   "execution_count": null,
   "id": "b5734d1f-ec2a-47c3-8b0f-0cf99e488b35",
   "metadata": {},
   "outputs": [],
   "source": [
    "image = matplotlib.image.imread(\"data/sun-shines-in-CMS.jpg\")"
   ]
  },
  {
   "cell_type": "code",
   "execution_count": null,
   "id": "d04e1899-5597-4f5b-bc21-668bd92aaf34",
   "metadata": {},
   "outputs": [],
   "source": []
  },
  {
   "cell_type": "code",
   "execution_count": null,
   "id": "ec23429e-5094-4099-9a23-fe772971349a",
   "metadata": {},
   "outputs": [],
   "source": []
  },
  {
   "cell_type": "code",
   "execution_count": null,
   "id": "9ab6b500-b343-4180-a605-992d1196424b",
   "metadata": {},
   "outputs": [],
   "source": []
  },
  {
   "cell_type": "code",
   "execution_count": null,
   "id": "f763f7c8-1d8c-4323-b3ed-e7f513ab1e8f",
   "metadata": {},
   "outputs": [],
   "source": [
    "send_answer(???)"
   ]
  },
  {
   "cell_type": "markdown",
   "id": "e4c08494-ae99-4bbd-b7fd-62a5a3e54f00",
   "metadata": {},
   "source": [
    "<br><br><br>"
   ]
  },
  {
   "cell_type": "markdown",
   "id": "67cfd1f4-2a3b-4549-aeb7-def030f95b7e",
   "metadata": {},
   "source": [
    "### NumPy puzzle 5"
   ]
  },
  {
   "cell_type": "code",
   "execution_count": null,
   "id": "f9651c49-d954-4eae-9efd-d33d0b291207",
   "metadata": {},
   "outputs": [],
   "source": [
    "with open(\"data/SMHiggsToZZTo4L.root\", \"rb\") as file:\n",
    "    file.seek(42104123)\n",
    "    compressed_data = file.read(14718)\n",
    "    uncompressed_data = uncompressed_data = zlib.decompress(compressed_data)\n",
    "    array_of_uint8 = np.frombuffer(uncompressed_data, np.uint8, 12524)"
   ]
  },
  {
   "cell_type": "code",
   "execution_count": null,
   "id": "0c9c19d0-44ed-4815-9734-b134c8d7bf50",
   "metadata": {},
   "outputs": [],
   "source": []
  },
  {
   "cell_type": "code",
   "execution_count": null,
   "id": "407f638e-49a4-41d2-87ac-635a7061b5c7",
   "metadata": {},
   "outputs": [],
   "source": []
  },
  {
   "cell_type": "code",
   "execution_count": null,
   "id": "cc51632a-f77e-4b4f-ac2b-c8c15832d8a7",
   "metadata": {},
   "outputs": [],
   "source": []
  },
  {
   "cell_type": "code",
   "execution_count": null,
   "id": "add32197-0a89-41cd-9444-7b0f1d03394d",
   "metadata": {},
   "outputs": [],
   "source": [
    "send_answer(???)"
   ]
  },
  {
   "cell_type": "markdown",
   "id": "72ad98a1-38fe-4e36-b426-63f546aa9c87",
   "metadata": {},
   "source": [
    "<br><br><br>"
   ]
  },
  {
   "cell_type": "markdown",
   "id": "fdc552dc-0182-4bb7-a0bb-6edc816ecaee",
   "metadata": {},
   "source": [
    "### Awkward puzzle 1"
   ]
  },
  {
   "cell_type": "code",
   "execution_count": null,
   "id": "ead7e633-6691-4039-a165-ad0a29bfaddb",
   "metadata": {},
   "outputs": [],
   "source": [
    "with uproot.open(\"data/SMHiggsToZZTo4L.root\") as file:\n",
    "    dataset = file[\"Events\"].arrays()"
   ]
  },
  {
   "cell_type": "code",
   "execution_count": null,
   "id": "fd28e5f6-e3a0-42ff-a105-6112a1fd4ded",
   "metadata": {},
   "outputs": [],
   "source": [
    "EVENT = 0\n",
    "PARTICLE = 1"
   ]
  },
  {
   "cell_type": "code",
   "execution_count": null,
   "id": "52ffd787-21a3-4f3b-97d2-df2cd659dea9",
   "metadata": {},
   "outputs": [],
   "source": []
  },
  {
   "cell_type": "code",
   "execution_count": null,
   "id": "922d886f-8557-4461-b8ff-b3509b710371",
   "metadata": {},
   "outputs": [],
   "source": []
  },
  {
   "cell_type": "code",
   "execution_count": null,
   "id": "a2823b23-fd30-46c3-b439-11ad56812485",
   "metadata": {},
   "outputs": [],
   "source": []
  },
  {
   "cell_type": "code",
   "execution_count": null,
   "id": "321ae388-a4ed-45ae-b967-7e715987bb41",
   "metadata": {},
   "outputs": [],
   "source": [
    "send_answer(???)"
   ]
  },
  {
   "cell_type": "markdown",
   "id": "5d0afe66-b586-44b3-b818-490e84f6e1d2",
   "metadata": {},
   "source": [
    "<br><br><br>"
   ]
  },
  {
   "cell_type": "markdown",
   "id": "69c16c2b-a1c8-4c17-890d-9f8270bfa8c9",
   "metadata": {},
   "source": [
    "### Awkward puzzle 2"
   ]
  },
  {
   "cell_type": "code",
   "execution_count": null,
   "id": "66224417-aa06-4b8a-8442-b2d435e49a8d",
   "metadata": {},
   "outputs": [],
   "source": []
  },
  {
   "cell_type": "code",
   "execution_count": null,
   "id": "1a5ad87b-951e-4df9-a799-9a2c1586a16e",
   "metadata": {},
   "outputs": [],
   "source": []
  },
  {
   "cell_type": "code",
   "execution_count": null,
   "id": "321686d6-ae22-42b7-8f90-4d5cc85fd42d",
   "metadata": {},
   "outputs": [],
   "source": []
  },
  {
   "cell_type": "code",
   "execution_count": null,
   "id": "0034af68-c34e-4c80-8a30-393187be3306",
   "metadata": {},
   "outputs": [],
   "source": [
    "send_answer(???)"
   ]
  },
  {
   "cell_type": "markdown",
   "id": "b9db4499-cacb-4542-b11d-9149d037dab6",
   "metadata": {},
   "source": [
    "<br><br><br>"
   ]
  },
  {
   "cell_type": "markdown",
   "id": "18c9d3c8-e99a-4afb-9b77-a6efaa9170e1",
   "metadata": {},
   "source": [
    "### Awkward puzzle 3"
   ]
  },
  {
   "cell_type": "code",
   "execution_count": null,
   "id": "74b7e474-3f06-4156-a027-07becfba340c",
   "metadata": {},
   "outputs": [],
   "source": []
  },
  {
   "cell_type": "code",
   "execution_count": null,
   "id": "be3a1733-fe0b-45f9-9285-4d35aee847fa",
   "metadata": {},
   "outputs": [],
   "source": []
  },
  {
   "cell_type": "code",
   "execution_count": null,
   "id": "90c0d2dd-46bf-42d2-b7cb-9569e4d94af1",
   "metadata": {},
   "outputs": [],
   "source": []
  },
  {
   "cell_type": "code",
   "execution_count": null,
   "id": "a0dda3b1-0756-42d1-a59b-7de906cfbdcf",
   "metadata": {},
   "outputs": [],
   "source": [
    "send_answer(???)"
   ]
  },
  {
   "cell_type": "markdown",
   "id": "a655b7ca-72e9-4de1-a0e2-cfea439b4480",
   "metadata": {},
   "source": [
    "<br><br><br>"
   ]
  },
  {
   "cell_type": "markdown",
   "id": "ed8ff856-db2e-48be-b545-6eb48166d4c8",
   "metadata": {},
   "source": [
    "### Awkward puzzle 4"
   ]
  },
  {
   "cell_type": "code",
   "execution_count": null,
   "id": "ebf3873b-9e9a-4d01-ac63-be75eb0c83bf",
   "metadata": {},
   "outputs": [],
   "source": []
  },
  {
   "cell_type": "code",
   "execution_count": null,
   "id": "60506e74-241f-462f-9964-4d1734eef0cb",
   "metadata": {},
   "outputs": [],
   "source": []
  },
  {
   "cell_type": "code",
   "execution_count": null,
   "id": "c709932c-20d6-4334-bed5-55b260a8dd77",
   "metadata": {},
   "outputs": [],
   "source": []
  },
  {
   "cell_type": "code",
   "execution_count": null,
   "id": "d4d67844-2fb9-4f96-9adf-f966e9f13427",
   "metadata": {},
   "outputs": [],
   "source": [
    "send_answer(???)"
   ]
  },
  {
   "cell_type": "markdown",
   "id": "d17a114f-9146-4792-a2b6-a8ed061eeecc",
   "metadata": {},
   "source": [
    "<br><br><br>"
   ]
  },
  {
   "cell_type": "markdown",
   "id": "8d6dfa43-43a7-4246-a6ef-5fe22d63e931",
   "metadata": {},
   "source": [
    "### Awkward puzzle 5"
   ]
  },
  {
   "cell_type": "code",
   "execution_count": null,
   "id": "9827802d-2902-4725-9d51-6f7ef33b96de",
   "metadata": {},
   "outputs": [],
   "source": [
    "electrons = ak.zip({\n",
    "    \"pt\": dataset.Electron_pt,\n",
    "    \"phi\": dataset.Electron_phi,\n",
    "    \"eta\": dataset.Electron_eta,\n",
    "    \"mass\": dataset.Electron_mass,\n",
    "    \"charge\": dataset.Electron_charge,\n",
    "}, with_name=\"Momentum4D\")"
   ]
  },
  {
   "cell_type": "code",
   "execution_count": null,
   "id": "8af486c8-463c-4ee1-afe0-6791e5114f5e",
   "metadata": {},
   "outputs": [],
   "source": [
    "muons = ak.zip({\n",
    "    \"pt\": dataset.Muon_pt,\n",
    "    \"phi\": dataset.Muon_phi,\n",
    "    \"eta\": dataset.Muon_eta,\n",
    "    \"mass\": dataset.Muon_mass,\n",
    "    \"charge\": dataset.Muon_charge,\n",
    "}, with_name=\"Momentum4D\")"
   ]
  },
  {
   "cell_type": "code",
   "execution_count": null,
   "id": "de25279a-4f6a-4dda-993b-6470c760bde9",
   "metadata": {},
   "outputs": [],
   "source": []
  },
  {
   "cell_type": "code",
   "execution_count": null,
   "id": "d49faa92-6fc2-44cf-a9c4-fbbeb8053d03",
   "metadata": {},
   "outputs": [],
   "source": []
  },
  {
   "cell_type": "code",
   "execution_count": null,
   "id": "30e68067-4c6b-495a-baa6-2f6645a8a4a8",
   "metadata": {},
   "outputs": [],
   "source": []
  },
  {
   "cell_type": "code",
   "execution_count": null,
   "id": "9ce2dbc6-8bf7-47e8-8e1e-cc9937c8b202",
   "metadata": {},
   "outputs": [],
   "source": [
    "send_answer(???)"
   ]
  },
  {
   "cell_type": "markdown",
   "id": "12baabdb-8689-4402-b3f1-0c60adc5a411",
   "metadata": {},
   "source": [
    "<br><br><br>"
   ]
  },
  {
   "cell_type": "markdown",
   "id": "370bfc07-5acc-4ac0-8008-62d10f70ff47",
   "metadata": {},
   "source": [
    "### Awkward puzzle 6"
   ]
  },
  {
   "cell_type": "code",
   "execution_count": null,
   "id": "497e0437-5700-43d4-a3fe-86ec99221676",
   "metadata": {},
   "outputs": [],
   "source": [
    "muon_plus = muons[muons.charge > 0]\n",
    "muon_minus = muons[muons.charge < 0]"
   ]
  },
  {
   "cell_type": "code",
   "execution_count": null,
   "id": "b2406317-8f82-49d2-b363-bdf7ba6144c7",
   "metadata": {},
   "outputs": [],
   "source": []
  },
  {
   "cell_type": "code",
   "execution_count": null,
   "id": "c1c61905-1d5e-42ae-8fdc-88ff4cfe2eea",
   "metadata": {},
   "outputs": [],
   "source": []
  },
  {
   "cell_type": "code",
   "execution_count": null,
   "id": "069bb964-581c-420f-aff4-2858a5a99f0c",
   "metadata": {},
   "outputs": [],
   "source": []
  },
  {
   "cell_type": "code",
   "execution_count": null,
   "id": "1be1ccaa-eb68-47dd-aff7-e2781930b4fe",
   "metadata": {},
   "outputs": [],
   "source": [
    "send_answer(???)"
   ]
  },
  {
   "cell_type": "markdown",
   "id": "eb347a08-b71a-4e5d-9692-4d46fb7e27de",
   "metadata": {},
   "source": [
    "<br><br><br>"
   ]
  },
  {
   "cell_type": "markdown",
   "id": "74d9afc2-55f8-4476-897a-f58b0b53e207",
   "metadata": {},
   "source": [
    "### Awkward puzzle 7"
   ]
  },
  {
   "cell_type": "code",
   "execution_count": null,
   "id": "341e49c2-47ea-4bea-944e-b2f252cd8c37",
   "metadata": {},
   "outputs": [],
   "source": [
    "electron_plus = electrons[electrons.charge > 0]\n",
    "electron_minus = electrons[electrons.charge < 0]"
   ]
  },
  {
   "cell_type": "code",
   "execution_count": null,
   "id": "820f0a62-b42b-44ff-9477-471a9ac5fcb4",
   "metadata": {},
   "outputs": [],
   "source": []
  },
  {
   "cell_type": "code",
   "execution_count": null,
   "id": "6ac0c52c-e1e7-47eb-ab8a-2628544d84a4",
   "metadata": {},
   "outputs": [],
   "source": []
  },
  {
   "cell_type": "code",
   "execution_count": null,
   "id": "09b46ad4-e148-4aea-92bb-5a20f0d93b91",
   "metadata": {},
   "outputs": [],
   "source": []
  },
  {
   "cell_type": "code",
   "execution_count": null,
   "id": "c0b5b61e-bb6b-47c5-a0fb-0daa1a0aa908",
   "metadata": {},
   "outputs": [],
   "source": [
    "send_answer(???)"
   ]
  },
  {
   "cell_type": "markdown",
   "id": "9f2bd175-cd33-4fe6-8b32-1c946cbd4ff4",
   "metadata": {},
   "source": [
    "<br><br><br>"
   ]
  },
  {
   "cell_type": "markdown",
   "id": "ca2c7b11-b288-4318-a7e0-fbe1bd0b2119",
   "metadata": {},
   "source": [
    "### Awkward puzzle 8"
   ]
  },
  {
   "cell_type": "code",
   "execution_count": null,
   "id": "aaaeb373-4173-4bf8-8f30-c211a56b1240",
   "metadata": {},
   "outputs": [],
   "source": []
  },
  {
   "cell_type": "code",
   "execution_count": null,
   "id": "0a107e91-3e89-4c36-a65b-69d242705b7f",
   "metadata": {},
   "outputs": [],
   "source": []
  },
  {
   "cell_type": "code",
   "execution_count": null,
   "id": "127bb25f-5199-44f0-a5ef-93c3b41f2fe3",
   "metadata": {},
   "outputs": [],
   "source": []
  },
  {
   "cell_type": "code",
   "execution_count": null,
   "id": "4322bae3-3d91-435c-b6d9-dbdd1a34ada6",
   "metadata": {},
   "outputs": [],
   "source": [
    "send_answer(???)"
   ]
  },
  {
   "cell_type": "markdown",
   "id": "2ff0fd05-70bd-42ff-93f1-18c608e9bd95",
   "metadata": {},
   "source": [
    "<br><br><br>"
   ]
  },
  {
   "cell_type": "markdown",
   "id": "479e4ae8-77e2-451a-8314-47ced60055af",
   "metadata": {},
   "source": [
    "### Awkward puzzle 9"
   ]
  },
  {
   "cell_type": "code",
   "execution_count": null,
   "id": "b59ac4b6-8df5-493d-970e-fe4653ccb18d",
   "metadata": {},
   "outputs": [],
   "source": [
    "EVENT = 0\n",
    "PARTICLE = 1\n",
    "PARTICLE2 = 2"
   ]
  },
  {
   "cell_type": "code",
   "execution_count": null,
   "id": "c95d4a4d-5384-45ac-8a53-0985e76282b6",
   "metadata": {},
   "outputs": [],
   "source": []
  },
  {
   "cell_type": "code",
   "execution_count": null,
   "id": "4b16b7cf-5bd2-4fcb-8b56-8e089d616325",
   "metadata": {},
   "outputs": [],
   "source": []
  },
  {
   "cell_type": "code",
   "execution_count": null,
   "id": "fcc0daf3-79d8-4590-a976-ea423708eab3",
   "metadata": {},
   "outputs": [],
   "source": []
  },
  {
   "cell_type": "code",
   "execution_count": null,
   "id": "d39a74c3-0166-43cc-a75e-569ec61e347a",
   "metadata": {},
   "outputs": [],
   "source": [
    "send_answer(???)"
   ]
  }
 ],
 "metadata": {
  "kernelspec": {
   "display_name": "Python 3 (ipykernel)",
   "language": "python",
   "name": "python3"
  },
  "language_info": {
   "codemirror_mode": {
    "name": "ipython",
    "version": 3
   },
   "file_extension": ".py",
   "mimetype": "text/x-python",
   "name": "python",
   "nbconvert_exporter": "python",
   "pygments_lexer": "ipython3",
   "version": "3.11.9"
  }
 },
 "nbformat": 4,
 "nbformat_minor": 5
}
