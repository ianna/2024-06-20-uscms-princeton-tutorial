{
 "cells": [
  {
   "cell_type": "markdown",
   "id": "8329fdb5-c161-43a2-bb70-e4a023744066",
   "metadata": {},
   "source": [
    "## This tutorial"
   ]
  },
  {
   "cell_type": "code",
   "execution_count": null,
   "id": "82ae372e-3015-4b1c-a6c1-1b5866298084",
   "metadata": {},
   "outputs": [],
   "source": [
    "import piplite\n",
    "await piplite.install(\"requests\")\n",
    "await piplite.install(\"requests-aws4auth\")\n",
    "from communication import send_answer"
   ]
  },
  {
   "cell_type": "code",
   "execution_count": null,
   "id": "bf7219c7-863d-4bad-8e68-84c017eafc38",
   "metadata": {},
   "outputs": [],
   "source": [
    "print(\"This is a test.\")"
   ]
  },
  {
   "cell_type": "code",
   "execution_count": null,
   "id": "6fe88c2a-05c8-4081-abb3-1a1bbbead0ba",
   "metadata": {},
   "outputs": [],
   "source": [
    "send_answer(2)"
   ]
  },
  {
   "cell_type": "markdown",
   "id": "4d73a4aa-6641-4110-b60f-686e05346919",
   "metadata": {},
   "source": [
    "<br><br><br>"
   ]
  },
  {
   "cell_type": "markdown",
   "id": "ffc8c89d-bb08-4223-ae79-4af92889b332",
   "metadata": {},
   "source": [
    "## Puzzles"
   ]
  },
  {
   "cell_type": "code",
   "execution_count": null,
   "id": "a8b39794-0f52-4d2f-a2bb-79ae54120e87",
   "metadata": {},
   "outputs": [],
   "source": [
    "import zlib\n",
    "\n",
    "import numpy as np\n",
    "import matplotlib.pyplot as plt\n",
    "import matplotlib.image\n",
    "import awkward as ak\n",
    "import uproot"
   ]
  },
  {
   "cell_type": "markdown",
   "id": "a2005673-c1a4-4636-9741-1ba60ccf6ca3",
   "metadata": {},
   "source": [
    "<br><br><br>"
   ]
  }
 ],
 "metadata": {
  "kernelspec": {
   "display_name": "Python 3 (ipykernel)",
   "language": "python",
   "name": "python3"
  },
  "language_info": {
   "codemirror_mode": {
    "name": "ipython",
    "version": 3
   },
   "file_extension": ".py",
   "mimetype": "text/x-python",
   "name": "python",
   "nbconvert_exporter": "python",
   "pygments_lexer": "ipython3",
   "version": "3.11.9"
  }
 },
 "nbformat": 4,
 "nbformat_minor": 5
}
