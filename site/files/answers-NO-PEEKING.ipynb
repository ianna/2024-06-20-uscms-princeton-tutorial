{
 "cells": [
  {
   "cell_type": "markdown",
   "id": "0bd07e5a-95b2-43de-b44c-a14b06cc61d9",
   "metadata": {},
   "source": [
    "## Puzzles"
   ]
  },
  {
   "cell_type": "code",
   "execution_count": 1,
   "id": "2181cab3-4788-4e90-a280-03714aad8bb5",
   "metadata": {},
   "outputs": [],
   "source": [
    "import zlib\n",
    "\n",
    "import numpy as np\n",
    "import matplotlib.pyplot as plt\n",
    "import matplotlib.image\n",
    "import awkward as ak\n",
    "import uproot"
   ]
  },
  {
   "cell_type": "markdown",
   "id": "5fb717b4-8fb0-4d44-afba-3079e2755363",
   "metadata": {},
   "source": [
    "<br><br><br>"
   ]
  },
  {
   "cell_type": "markdown",
   "id": "4e165289-75e7-458e-9565-e6010b85892c",
   "metadata": {},
   "source": [
    "### Puzzle 1"
   ]
  },
  {
   "cell_type": "code",
   "execution_count": 2,
   "id": "d0f6c22d-ce12-40e8-9ebb-a29262d57f4f",
   "metadata": {},
   "outputs": [],
   "source": [
    "array3d = np.arange(2 * 3 * 5).reshape(2, 3, 5)"
   ]
  },
  {
   "cell_type": "markdown",
   "id": "298851aa-2878-41bd-85a1-99d06311b9b5",
   "metadata": {},
   "source": [
    "#### Solution"
   ]
  },
  {
   "cell_type": "markdown",
   "id": "2728af73-4fe5-4d01-8678-c4eaa9843962",
   "metadata": {},
   "source": [
    "Either keep the number of dimensions intact (the first dimension has length 1):"
   ]
  },
  {
   "cell_type": "code",
   "execution_count": 3,
   "id": "6048f0c3-894e-4949-bb56-6fcc50928585",
   "metadata": {},
   "outputs": [
    {
     "data": {
      "text/plain": [
       "array([[[ 2,  3,  4],\n",
       "        [ 7,  8,  9],\n",
       "        [12, 13, 14]]])"
      ]
     },
     "execution_count": 3,
     "metadata": {},
     "output_type": "execute_result"
    }
   ],
   "source": [
    "array3d[:1, :, 2:]"
   ]
  },
  {
   "cell_type": "markdown",
   "id": "30e3de45-a766-488d-a178-b949c2bb1db1",
   "metadata": {},
   "source": [
    "or reduce that dimension:"
   ]
  },
  {
   "cell_type": "code",
   "execution_count": 4,
   "id": "895c4104-9868-490f-b3e2-a095f50c72d2",
   "metadata": {},
   "outputs": [
    {
     "data": {
      "text/plain": [
       "array([[ 2,  3,  4],\n",
       "       [ 7,  8,  9],\n",
       "       [12, 13, 14]])"
      ]
     },
     "execution_count": 4,
     "metadata": {},
     "output_type": "execute_result"
    }
   ],
   "source": [
    "array3d[0, :, 2:]"
   ]
  },
  {
   "cell_type": "markdown",
   "id": "2a958544-6587-4251-8c77-687f5e7792b0",
   "metadata": {},
   "source": [
    "These are different answers to the question, but both are fine."
   ]
  },
  {
   "cell_type": "markdown",
   "id": "27f63c67-2afd-4604-8faa-c4448b0bea27",
   "metadata": {},
   "source": [
    "<br><br><br>"
   ]
  },
  {
   "cell_type": "markdown",
   "id": "f9f8b5c5-00ba-4065-b5fd-320205862c56",
   "metadata": {},
   "source": [
    "### Puzzle 2"
   ]
  },
  {
   "cell_type": "code",
   "execution_count": 5,
   "id": "ff00f772-f2f0-4b74-bb41-d1f5e23bfd57",
   "metadata": {},
   "outputs": [],
   "source": [
    "array = np.array([1.1, 2.2, 3.3, 4.4, 5.5, 6.6, 7.7, 8.8, 9.9])"
   ]
  },
  {
   "cell_type": "markdown",
   "id": "0a71aed5-4231-4b3c-b19f-d1915f80e582",
   "metadata": {},
   "source": [
    "#### Solution"
   ]
  },
  {
   "cell_type": "markdown",
   "id": "3f778392-4683-4bc5-a0ce-2a528881a419",
   "metadata": {},
   "source": [
    "This involves slicing and applying a [universal function](https://numpy.org/doc/stable/reference/ufuncs.html) across all elements, showing how NumPy's elementary operations can be combined to get functionality that wasn't explicitly compiled into the library."
   ]
  },
  {
   "cell_type": "code",
   "execution_count": 6,
   "id": "58fe3314-481a-447c-828d-18bcc6253489",
   "metadata": {},
   "outputs": [
    {
     "data": {
      "text/plain": [
       "array([1.1, 1.1, 1.1, 1.1, 1.1, 1.1, 1.1, 1.1])"
      ]
     },
     "execution_count": 6,
     "metadata": {},
     "output_type": "execute_result"
    }
   ],
   "source": [
    "array[1:] - array[:-1]"
   ]
  },
  {
   "cell_type": "markdown",
   "id": "193d6e9a-848d-4c99-9971-2b5b3a19558d",
   "metadata": {},
   "source": [
    "<br><br><br>"
   ]
  },
  {
   "cell_type": "markdown",
   "id": "c4698f7a-f7d2-48e0-80dc-ab577fec85c7",
   "metadata": {},
   "source": [
    "### Puzzle 3"
   ]
  },
  {
   "cell_type": "code",
   "execution_count": 7,
   "id": "90ccdbf1-d79e-4649-b0a0-7aafc1060410",
   "metadata": {},
   "outputs": [],
   "source": [
    "t = np.linspace(0, 2*np.pi, 10000)\n",
    "x = np.sin(3*t)\n",
    "y = np.sin(4*t)"
   ]
  },
  {
   "cell_type": "markdown",
   "id": "578ef2bf-a7c6-45ef-bfe2-dc96679ef061",
   "metadata": {},
   "source": [
    "#### Solution"
   ]
  },
  {
   "cell_type": "markdown",
   "id": "9e061ad0-616f-4954-8df1-0ce57967f3d4",
   "metadata": {},
   "source": [
    "This calculation of path length involves slicing, universal functions, and reduction."
   ]
  },
  {
   "cell_type": "code",
   "execution_count": 8,
   "id": "65e32cfb-5133-4d56-a045-54807348aafb",
   "metadata": {},
   "outputs": [
    {
     "data": {
      "text/plain": [
       "9564.961050220914"
      ]
     },
     "execution_count": 8,
     "metadata": {},
     "output_type": "execute_result"
    }
   ],
   "source": [
    "np.sum(np.sqrt((x[1:] - x[-1:])**2 + (y[1:] - y[-1:])**2), axis=0)"
   ]
  },
  {
   "cell_type": "markdown",
   "id": "7414d05e-9a72-4235-9242-91b5f28b73e2",
   "metadata": {},
   "source": [
    "<br><br><br>"
   ]
  },
  {
   "cell_type": "markdown",
   "id": "81184944-56dc-4c89-8a34-b00ee71cab96",
   "metadata": {},
   "source": [
    "### Puzzle 4"
   ]
  },
  {
   "cell_type": "code",
   "execution_count": 9,
   "id": "b5734d1f-ec2a-47c3-8b0f-0cf99e488b35",
   "metadata": {},
   "outputs": [],
   "source": [
    "image = matplotlib.image.imread(\"data/sun-shines-in-CMS.jpg\")"
   ]
  },
  {
   "cell_type": "markdown",
   "id": "7599a221-1075-4b22-9913-3af6abda0afb",
   "metadata": {},
   "source": [
    "#### Solution"
   ]
  },
  {
   "cell_type": "markdown",
   "id": "07fc1210-4e42-4c56-830f-fe3a74233914",
   "metadata": {},
   "source": [
    "In NumPy, the shapes of arrays are fluid. An array can be reshaped from 3 dimensional to 5 dimensional as long as the number of items is unchanged.\n",
    "\n",
    "Reshaping provides new axes for reducers like [np.mean](https://numpy.org/doc/stable/reference/generated/numpy.mean.html) to apply.\n",
    "\n",
    "Be sure to average over axis 3 before axis 1, since reduction removes an axis, changing the numbering of later axes."
   ]
  },
  {
   "cell_type": "code",
   "execution_count": 10,
   "id": "b02fb820-9264-4d77-91a2-60a9c3868b07",
   "metadata": {},
   "outputs": [],
   "source": [
    "resampled = np.mean(\n",
    "    np.mean(\n",
    "        image.reshape(1920 // 64, 64, 2560 // 64, 64, 3),\n",
    "        axis=3,\n",
    "    ),\n",
    "    axis=1,\n",
    ")"
   ]
  },
  {
   "cell_type": "markdown",
   "id": "e1a599a3-0dbc-48df-802f-73f4481e66ee",
   "metadata": {},
   "source": [
    "Or alternatively, use negative axis numbers and do it in the other order."
   ]
  },
  {
   "cell_type": "code",
   "execution_count": 11,
   "id": "bd73dadb-0a2e-4bd1-b7a0-42ba4ea8b79a",
   "metadata": {},
   "outputs": [],
   "source": [
    "resampled = np.mean(\n",
    "    np.mean(\n",
    "        image.reshape(1920 // 64, 64, 2560 // 64, 64, 3),\n",
    "        axis=-4,\n",
    "    ),\n",
    "    axis=-2,\n",
    ")"
   ]
  },
  {
   "cell_type": "markdown",
   "id": "7dc4f74c-ef6b-458a-8f43-5d53dcd8a192",
   "metadata": {},
   "source": [
    "Or as a third option, use `keepdims=True` to keep the axis numbering from changing and only remove the length 1 dimensions after all reductions are done."
   ]
  },
  {
   "cell_type": "code",
   "execution_count": 12,
   "id": "8029020f-a579-4439-8397-cefda10b37ec",
   "metadata": {},
   "outputs": [],
   "source": [
    "resampled = np.mean(\n",
    "    np.mean(\n",
    "        image.reshape(1920 // 64, 64, 2560 // 64, 64, 3),\n",
    "        axis=1,\n",
    "        keepdims=True,\n",
    "    ),\n",
    "    axis=3,\n",
    "    keepdims=True,\n",
    ").reshape(1920 // 64, 2560 // 64, 3)"
   ]
  },
  {
   "cell_type": "code",
   "execution_count": 13,
   "id": "b18c9149-99e3-4b2e-aebf-168c47242b53",
   "metadata": {},
   "outputs": [
    {
     "data": {
      "image/png": "[encoded data removed]",
      "text/plain": [
       "<Figure size 640x480 with 1 Axes>"
      ]
     },
     "metadata": {},
     "output_type": "display_data"
    }
   ],
   "source": [
    "plt.imshow(resampled.astype(np.uint8));"
   ]
  },
  {
   "cell_type": "markdown",
   "id": "91185599-4d75-41c6-903b-69b4df6d5336",
   "metadata": {},
   "source": [
    "<br><br><br>"
   ]
  },
  {
   "cell_type": "markdown",
   "id": "4247f920-9cc5-490a-a530-38e655589853",
   "metadata": {},
   "source": [
    "### Puzzle 5"
   ]
  },
  {
   "cell_type": "code",
   "execution_count": 14,
   "id": "16813b20-3b25-4683-8f6e-143229ed8082",
   "metadata": {},
   "outputs": [],
   "source": [
    "with open(\"data/SMHiggsToZZTo4L.root\", \"rb\") as file:\n",
    "    file.seek(42104123)\n",
    "    compressed_data = file.read(14718)\n",
    "    uncompressed_data = uncompressed_data = zlib.decompress(compressed_data)\n",
    "    array_of_uint8 = np.frombuffer(uncompressed_data, np.uint8, 12524)"
   ]
  },
  {
   "cell_type": "markdown",
   "id": "21ff894e-e61f-444e-ae98-f266870e65fe",
   "metadata": {},
   "source": [
    "#### Solution"
   ]
  },
  {
   "cell_type": "markdown",
   "id": "bed8de53-5786-4bac-ae0d-5394476a0853",
   "metadata": {},
   "source": [
    "This is similar to the image-scaling puzzle: we use short-lived axes to be able to express an operation, but instead of reduction, it's a direction-reversing slice. Without reshaping, we wouldn't be able to express \"groups of 4.\""
   ]
  },
  {
   "cell_type": "code",
   "execution_count": 15,
   "id": "0509c0e5-e738-46aa-aee8-241674fdac08",
   "metadata": {},
   "outputs": [],
   "source": [
    "byte_swapped = array_of_uint8.reshape(-1, 4)[:, ::-1].reshape(-1)"
   ]
  },
  {
   "cell_type": "code",
   "execution_count": 16,
   "id": "d2a5718d-728e-4da7-8da7-97e9b95c3e86",
   "metadata": {},
   "outputs": [
    {
     "data": {
      "text/plain": [
       "array([ 9.831079 , 12.383099 , 12.991788 , ...,  4.3587666,  5.632667 ,\n",
       "        4.7507796], dtype=float32)"
      ]
     },
     "execution_count": 16,
     "metadata": {},
     "output_type": "execute_result"
    }
   ],
   "source": [
    "byte_swapped.view(np.float32)"
   ]
  },
  {
   "cell_type": "markdown",
   "id": "27c22687-2f21-4d7e-ba92-bfadf408822d",
   "metadata": {},
   "source": [
    "<br><br><br>"
   ]
  },
  {
   "cell_type": "markdown",
   "id": "ae426d1d-b7d6-42f3-94a0-15d26cc7843c",
   "metadata": {},
   "source": [
    "### Puzzle 6"
   ]
  }
 ],
 "metadata": {
  "kernelspec": {
   "display_name": "Python 3 (ipykernel)",
   "language": "python",
   "name": "python3"
  },
  "language_info": {
   "codemirror_mode": {
    "name": "ipython",
    "version": 3
   },
   "file_extension": ".py",
   "mimetype": "text/x-python",
   "name": "python",
   "nbconvert_exporter": "python",
   "pygments_lexer": "ipython3",
   "version": "3.11.9"
  }
 },
 "nbformat": 4,
 "nbformat_minor": 5
}
