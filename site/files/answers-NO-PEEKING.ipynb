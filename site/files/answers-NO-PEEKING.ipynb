{
 "cells": [
  {
   "cell_type": "markdown",
   "id": "0bd07e5a-95b2-43de-b44c-a14b06cc61d9",
   "metadata": {},
   "source": [
    "## Puzzles"
   ]
  },
  {
   "cell_type": "code",
   "execution_count": 1,
   "id": "2181cab3-4788-4e90-a280-03714aad8bb5",
   "metadata": {},
   "outputs": [],
   "source": [
    "import zlib\n",
    "import numpy as np\n",
    "import matplotlib.pyplot as plt\n",
    "import matplotlib.image\n",
    "import awkward as ak\n",
    "from hist import Hist\n",
    "import uproot\n",
    "import vector\n",
    "vector.register_awkward()"
   ]
  },
  {
   "cell_type": "markdown",
   "id": "5fb717b4-8fb0-4d44-afba-3079e2755363",
   "metadata": {},
   "source": [
    "<br><br><br>"
   ]
  },
  {
   "cell_type": "markdown",
   "id": "4e165289-75e7-458e-9565-e6010b85892c",
   "metadata": {},
   "source": [
    "### NumPy puzzle 1"
   ]
  },
  {
   "cell_type": "code",
   "execution_count": 2,
   "id": "d0f6c22d-ce12-40e8-9ebb-a29262d57f4f",
   "metadata": {},
   "outputs": [],
   "source": [
    "array3d = np.arange(2 * 3 * 5).reshape(2, 3, 5)"
   ]
  },
  {
   "cell_type": "markdown",
   "id": "298851aa-2878-41bd-85a1-99d06311b9b5",
   "metadata": {},
   "source": [
    "#### Solution"
   ]
  },
  {
   "cell_type": "markdown",
   "id": "2728af73-4fe5-4d01-8678-c4eaa9843962",
   "metadata": {},
   "source": [
    "Either keep the number of dimensions intact (the first dimension has length 1):"
   ]
  },
  {
   "cell_type": "code",
   "execution_count": 3,
   "id": "6048f0c3-894e-4949-bb56-6fcc50928585",
   "metadata": {},
   "outputs": [
    {
     "data": {
      "text/plain": [
       "array([[[ 2,  3,  4],\n",
       "        [ 7,  8,  9],\n",
       "        [12, 13, 14]]])"
      ]
     },
     "execution_count": 3,
     "metadata": {},
     "output_type": "execute_result"
    }
   ],
   "source": [
    "array3d[:1, :, 2:]"
   ]
  },
  {
   "cell_type": "markdown",
   "id": "30e3de45-a766-488d-a178-b949c2bb1db1",
   "metadata": {},
   "source": [
    "or reduce that dimension:"
   ]
  },
  {
   "cell_type": "code",
   "execution_count": 4,
   "id": "895c4104-9868-490f-b3e2-a095f50c72d2",
   "metadata": {},
   "outputs": [
    {
     "data": {
      "text/plain": [
       "array([[ 2,  3,  4],\n",
       "       [ 7,  8,  9],\n",
       "       [12, 13, 14]])"
      ]
     },
     "execution_count": 4,
     "metadata": {},
     "output_type": "execute_result"
    }
   ],
   "source": [
    "array3d[0, :, 2:]"
   ]
  },
  {
   "cell_type": "markdown",
   "id": "2a958544-6587-4251-8c77-687f5e7792b0",
   "metadata": {},
   "source": [
    "These are different answers to the question, but both are fine."
   ]
  },
  {
   "cell_type": "markdown",
   "id": "27f63c67-2afd-4604-8faa-c4448b0bea27",
   "metadata": {},
   "source": [
    "<br><br><br>"
   ]
  },
  {
   "cell_type": "markdown",
   "id": "f9f8b5c5-00ba-4065-b5fd-320205862c56",
   "metadata": {},
   "source": [
    "### NumPy puzzle 2"
   ]
  },
  {
   "cell_type": "code",
   "execution_count": 5,
   "id": "ff00f772-f2f0-4b74-bb41-d1f5e23bfd57",
   "metadata": {},
   "outputs": [],
   "source": [
    "array = np.array([1.1, 2.2, 3.3, 4.4, 5.5, 6.6, 7.7, 8.8, 9.9])"
   ]
  },
  {
   "cell_type": "markdown",
   "id": "0a71aed5-4231-4b3c-b19f-d1915f80e582",
   "metadata": {},
   "source": [
    "#### Solution"
   ]
  },
  {
   "cell_type": "markdown",
   "id": "3f778392-4683-4bc5-a0ce-2a528881a419",
   "metadata": {},
   "source": [
    "This involves slicing and applying a [universal function](https://numpy.org/doc/stable/reference/ufuncs.html) across all elements, showing how NumPy's elementary operations can be combined to get functionality that wasn't explicitly compiled into the library."
   ]
  },
  {
   "cell_type": "code",
   "execution_count": 6,
   "id": "58fe3314-481a-447c-828d-18bcc6253489",
   "metadata": {},
   "outputs": [
    {
     "data": {
      "text/plain": [
       "array([1.1, 1.1, 1.1, 1.1, 1.1, 1.1, 1.1, 1.1])"
      ]
     },
     "execution_count": 6,
     "metadata": {},
     "output_type": "execute_result"
    }
   ],
   "source": [
    "array[1:] - array[:-1]"
   ]
  },
  {
   "cell_type": "markdown",
   "id": "193d6e9a-848d-4c99-9971-2b5b3a19558d",
   "metadata": {},
   "source": [
    "<br><br><br>"
   ]
  },
  {
   "cell_type": "markdown",
   "id": "c4698f7a-f7d2-48e0-80dc-ab577fec85c7",
   "metadata": {},
   "source": [
    "### NumPy puzzle 3"
   ]
  },
  {
   "cell_type": "code",
   "execution_count": 7,
   "id": "90ccdbf1-d79e-4649-b0a0-7aafc1060410",
   "metadata": {},
   "outputs": [],
   "source": [
    "t = np.linspace(0, 2*np.pi, 10000)\n",
    "x = np.sin(3*t)\n",
    "y = np.sin(4*t)"
   ]
  },
  {
   "cell_type": "markdown",
   "id": "578ef2bf-a7c6-45ef-bfe2-dc96679ef061",
   "metadata": {},
   "source": [
    "#### Solution"
   ]
  },
  {
   "cell_type": "markdown",
   "id": "9e061ad0-616f-4954-8df1-0ce57967f3d4",
   "metadata": {},
   "source": [
    "This calculation of path length involves slicing, universal functions, and reduction."
   ]
  },
  {
   "cell_type": "code",
   "execution_count": 8,
   "id": "65e32cfb-5133-4d56-a045-54807348aafb",
   "metadata": {},
   "outputs": [
    {
     "data": {
      "text/plain": [
       "9564.961050220914"
      ]
     },
     "execution_count": 8,
     "metadata": {},
     "output_type": "execute_result"
    }
   ],
   "source": [
    "np.sum(np.sqrt((x[1:] - x[-1:])**2 + (y[1:] - y[-1:])**2), axis=0)"
   ]
  },
  {
   "cell_type": "markdown",
   "id": "7414d05e-9a72-4235-9242-91b5f28b73e2",
   "metadata": {},
   "source": [
    "<br><br><br>"
   ]
  },
  {
   "cell_type": "markdown",
   "id": "81184944-56dc-4c89-8a34-b00ee71cab96",
   "metadata": {},
   "source": [
    "### NumPy puzzle 4"
   ]
  },
  {
   "cell_type": "code",
   "execution_count": 9,
   "id": "b5734d1f-ec2a-47c3-8b0f-0cf99e488b35",
   "metadata": {},
   "outputs": [],
   "source": [
    "image = matplotlib.image.imread(\"data/sun-shines-in-CMS.jpg\")"
   ]
  },
  {
   "cell_type": "markdown",
   "id": "7599a221-1075-4b22-9913-3af6abda0afb",
   "metadata": {},
   "source": [
    "#### Solution"
   ]
  },
  {
   "cell_type": "markdown",
   "id": "07fc1210-4e42-4c56-830f-fe3a74233914",
   "metadata": {},
   "source": [
    "In NumPy, the shapes of arrays are fluid. An array can be reshaped from 3 dimensional to 5 dimensional as long as the number of items is unchanged.\n",
    "\n",
    "Reshaping provides new axes for reducers like [np.mean](https://numpy.org/doc/stable/reference/generated/numpy.mean.html) to apply.\n",
    "\n",
    "Be sure to average over axis 3 before axis 1, since reduction removes an axis, changing the numbering of later axes."
   ]
  },
  {
   "cell_type": "code",
   "execution_count": 10,
   "id": "b02fb820-9264-4d77-91a2-60a9c3868b07",
   "metadata": {},
   "outputs": [],
   "source": [
    "resampled = np.mean(\n",
    "    np.mean(\n",
    "        image.reshape(1920 // 64, 64, 2560 // 64, 64, 3),\n",
    "        axis=3,\n",
    "    ),\n",
    "    axis=1,\n",
    ")"
   ]
  },
  {
   "cell_type": "markdown",
   "id": "e1a599a3-0dbc-48df-802f-73f4481e66ee",
   "metadata": {},
   "source": [
    "Or alternatively, use negative axis numbers and do it in the other order."
   ]
  },
  {
   "cell_type": "code",
   "execution_count": 11,
   "id": "bd73dadb-0a2e-4bd1-b7a0-42ba4ea8b79a",
   "metadata": {},
   "outputs": [],
   "source": [
    "resampled = np.mean(\n",
    "    np.mean(\n",
    "        image.reshape(1920 // 64, 64, 2560 // 64, 64, 3),\n",
    "        axis=-4,\n",
    "    ),\n",
    "    axis=-2,\n",
    ")"
   ]
  },
  {
   "cell_type": "markdown",
   "id": "7dc4f74c-ef6b-458a-8f43-5d53dcd8a192",
   "metadata": {},
   "source": [
    "Or as a third option, use `keepdims=True` to keep the axis numbering from changing and only remove the length 1 dimensions after all reductions are done."
   ]
  },
  {
   "cell_type": "code",
   "execution_count": 12,
   "id": "8029020f-a579-4439-8397-cefda10b37ec",
   "metadata": {},
   "outputs": [],
   "source": [
    "resampled = np.mean(\n",
    "    np.mean(\n",
    "        image.reshape(1920 // 64, 64, 2560 // 64, 64, 3),\n",
    "        axis=1,\n",
    "        keepdims=True,\n",
    "    ),\n",
    "    axis=3,\n",
    "    keepdims=True,\n",
    ").reshape(1920 // 64, 2560 // 64, 3)"
   ]
  },
  {
   "cell_type": "code",
   "execution_count": 13,
   "id": "b18c9149-99e3-4b2e-aebf-168c47242b53",
   "metadata": {},
   "outputs": [
    {
     "data": {
      "image/png": "[encoded data removed]",
      "text/plain": [
       "<Figure size 640x480 with 1 Axes>"
      ]
     },
     "metadata": {},
     "output_type": "display_data"
    }
   ],
   "source": [
    "plt.imshow(resampled.astype(np.uint8));"
   ]
  },
  {
   "cell_type": "markdown",
   "id": "91185599-4d75-41c6-903b-69b4df6d5336",
   "metadata": {},
   "source": [
    "<br><br><br>"
   ]
  },
  {
   "cell_type": "markdown",
   "id": "4247f920-9cc5-490a-a530-38e655589853",
   "metadata": {},
   "source": [
    "### NumPy puzzle 5"
   ]
  },
  {
   "cell_type": "code",
   "execution_count": 14,
   "id": "16813b20-3b25-4683-8f6e-143229ed8082",
   "metadata": {},
   "outputs": [],
   "source": [
    "with open(\"data/SMHiggsToZZTo4L.root\", \"rb\") as file:\n",
    "    file.seek(42104123)\n",
    "    compressed_data = file.read(14718)\n",
    "    uncompressed_data = uncompressed_data = zlib.decompress(compressed_data)\n",
    "    array_of_uint8 = np.frombuffer(uncompressed_data, np.uint8, 12524)"
   ]
  },
  {
   "cell_type": "markdown",
   "id": "21ff894e-e61f-444e-ae98-f266870e65fe",
   "metadata": {},
   "source": [
    "#### Solution"
   ]
  },
  {
   "cell_type": "markdown",
   "id": "bed8de53-5786-4bac-ae0d-5394476a0853",
   "metadata": {},
   "source": [
    "This is similar to the image-scaling puzzle: we use short-lived axes to be able to express an operation, but instead of reduction, it's a direction-reversing slice. Without reshaping, we wouldn't be able to express \"groups of 4.\""
   ]
  },
  {
   "cell_type": "code",
   "execution_count": 15,
   "id": "0509c0e5-e738-46aa-aee8-241674fdac08",
   "metadata": {},
   "outputs": [],
   "source": [
    "byte_swapped = array_of_uint8.reshape(-1, 4)[:, ::-1].reshape(-1)"
   ]
  },
  {
   "cell_type": "code",
   "execution_count": 16,
   "id": "d2a5718d-728e-4da7-8da7-97e9b95c3e86",
   "metadata": {},
   "outputs": [
    {
     "data": {
      "text/plain": [
       "array([ 9.831079 , 12.383099 , 12.991788 , ...,  4.3587666,  5.632667 ,\n",
       "        4.7507796], dtype=float32)"
      ]
     },
     "execution_count": 16,
     "metadata": {},
     "output_type": "execute_result"
    }
   ],
   "source": [
    "byte_swapped.view(np.float32)"
   ]
  },
  {
   "cell_type": "markdown",
   "id": "27c22687-2f21-4d7e-ba92-bfadf408822d",
   "metadata": {},
   "source": [
    "<br><br><br>"
   ]
  },
  {
   "cell_type": "markdown",
   "id": "ae426d1d-b7d6-42f3-94a0-15d26cc7843c",
   "metadata": {},
   "source": [
    "### Awkward puzzle 1"
   ]
  },
  {
   "cell_type": "code",
   "execution_count": 2,
   "id": "d30f7eda-0292-40ed-b1d1-03d7d669027e",
   "metadata": {},
   "outputs": [],
   "source": [
    "with uproot.open(\"data/SMHiggsToZZTo4L.root\") as file:\n",
    "    dataset = file[\"Events\"].arrays()"
   ]
  },
  {
   "cell_type": "code",
   "execution_count": 3,
   "id": "71a7ef49-252f-40a4-b114-c0004dc39bb1",
   "metadata": {},
   "outputs": [],
   "source": [
    "EVENT = 0\n",
    "PARTICLE = 1"
   ]
  },
  {
   "cell_type": "markdown",
   "id": "af0bd31d-1131-457c-8946-e2c821f68d51",
   "metadata": {},
   "source": [
    "In NumPy puzzle 2, you subtracted each element from its neighbor by slicing `array[1:]` (drops the first) and `array[:-1]` (drops the last) before subtracting.\n",
    "\n",
    "Here, you can do something similar, but it has to apply to the particles axis, not the events axis, so"
   ]
  },
  {
   "cell_type": "code",
   "execution_count": 4,
   "id": "e85b9a5c-390d-47c4-aff7-9b9aeb282776",
   "metadata": {},
   "outputs": [
    {
     "data": {
      "text/html": [
       "<pre>[[True, True],\n",
       " [],\n",
       " [],\n",
       " [True, False, True, False, False, True],\n",
       " [],\n",
       " [False],\n",
       " [],\n",
       " [],\n",
       " [],\n",
       " [],\n",
       " ...,\n",
       " [False],\n",
       " [True],\n",
       " [False],\n",
       " [],\n",
       " [False],\n",
       " [False],\n",
       " [False, False, True],\n",
       " [],\n",
       " []]\n",
       "-----------------------------------------\n",
       "type: 299973 * var * bool</pre>"
      ],
      "text/plain": [
       "<Array [[True, True], [], [], ..., [...], [], []] type='299973 * var * bool'>"
      ]
     },
     "execution_count": 4,
     "metadata": {},
     "output_type": "execute_result"
    }
   ],
   "source": [
    "dataset.Muon_pt[:, :-1] > dataset.Muon_pt[:, 1:]"
   ]
  },
  {
   "cell_type": "markdown",
   "id": "a230f2e0-87a6-4d4f-acba-9303e2e3387f",
   "metadata": {},
   "source": [
    "(either subtract and compare with zero or just compare one to the next).\n",
    "\n",
    "We want to know if it's always true that `dataset.Muon_pt[:, :-1] > dataset.Muon_pt[:, 1:]`. We can see by eye that there are some `False` values above, but we can clinch it by"
   ]
  },
  {
   "cell_type": "code",
   "execution_count": 5,
   "id": "49d2f5c2-6266-4d81-b9c2-86f251024fe0",
   "metadata": {},
   "outputs": [
    {
     "data": {
      "text/plain": [
       "False"
      ]
     },
     "execution_count": 5,
     "metadata": {},
     "output_type": "execute_result"
    }
   ],
   "source": [
    "np.all(dataset.Muon_pt[:, :-1] > dataset.Muon_pt[:, 1:])"
   ]
  },
  {
   "cell_type": "markdown",
   "id": "f381e586-26ae-49f8-978d-8034d2372dee",
   "metadata": {},
   "source": [
    "It is not true that the muon $p_T$ values are sorted within each event.\n",
    "\n",
    "The consequence, for this dataset, is that `dataset.Muon_pt[:, 0]` is not the leading $p_T$ and `0` and `1` are not necessarily the two most relevant muons."
   ]
  },
  {
   "cell_type": "markdown",
   "id": "347cde53-01ca-47c4-b548-7c8739435bea",
   "metadata": {},
   "source": [
    "<br><br><br>"
   ]
  },
  {
   "cell_type": "markdown",
   "id": "7d0b1e0b-e3be-4de2-8b65-956700289888",
   "metadata": {},
   "source": [
    "### Awkward puzzle 2"
   ]
  },
  {
   "cell_type": "markdown",
   "id": "25095f5e-95db-49ad-ba44-634b854f0686",
   "metadata": {},
   "source": [
    "Take an event if \"any muon $p_T > 50$ GeV (considering all particles).\""
   ]
  },
  {
   "cell_type": "code",
   "execution_count": 7,
   "id": "468ac34f-654d-477d-bd5d-b3084e74ba90",
   "metadata": {},
   "outputs": [
    {
     "data": {
      "text/html": [
       "<pre>[True,\n",
       " False,\n",
       " False,\n",
       " True,\n",
       " False,\n",
       " False,\n",
       " False,\n",
       " False,\n",
       " False,\n",
       " False,\n",
       " ...,\n",
       " True,\n",
       " False,\n",
       " True,\n",
       " False,\n",
       " False,\n",
       " False,\n",
       " False,\n",
       " False,\n",
       " False]\n",
       "-------------------\n",
       "type: 299973 * bool</pre>"
      ],
      "text/plain": [
       "<Array [True, False, False, ..., False, False, False] type='299973 * bool'>"
      ]
     },
     "execution_count": 7,
     "metadata": {},
     "output_type": "execute_result"
    }
   ],
   "source": [
    "boolean_mask_1d = ak.any(dataset.Muon_pt > 50, axis=PARTICLE)\n",
    "boolean_mask_1d"
   ]
  },
  {
   "cell_type": "markdown",
   "id": "a59447be-8249-4adb-8b51-62525b250126",
   "metadata": {},
   "source": [
    "Take an event if \"the maximum muon $p_T > 50$ GeV (over all particles).\""
   ]
  },
  {
   "cell_type": "code",
   "execution_count": 8,
   "id": "e11076b3-2cec-472a-ab05-b92e32b0545b",
   "metadata": {},
   "outputs": [
    {
     "data": {
      "text/html": [
       "<pre>[True,\n",
       " None,\n",
       " None,\n",
       " True,\n",
       " None,\n",
       " False,\n",
       " False,\n",
       " None,\n",
       " None,\n",
       " None,\n",
       " ...,\n",
       " True,\n",
       " False,\n",
       " True,\n",
       " None,\n",
       " False,\n",
       " False,\n",
       " False,\n",
       " None,\n",
       " None]\n",
       "--------------------\n",
       "type: 299973 * ?bool</pre>"
      ],
      "text/plain": [
       "<Array [True, None, None, True, ..., False, None, None] type='299973 * ?bool'>"
      ]
     },
     "execution_count": 8,
     "metadata": {},
     "output_type": "execute_result"
    }
   ],
   "source": [
    "boolean_mask_1d = ak.max(dataset.Muon_pt, axis=PARTICLE) > 50\n",
    "boolean_mask_1d"
   ]
  },
  {
   "cell_type": "markdown",
   "id": "2df75772-3433-4433-966a-1b55ad8b72d2",
   "metadata": {},
   "source": [
    "Some of these boolean values are missing because there is no maximum of an empty list, and that missing value (`None`) results in a missing conclusion about whether it is greater than 50 GeV or not.\n",
    "\n",
    "The missing values can be converted into `False` with [ak.fill_none](https://awkward-array.org/doc/main/reference/generated/ak.fill_none.html)"
   ]
  },
  {
   "cell_type": "code",
   "execution_count": 10,
   "id": "7970a1ae-2a60-4b7e-a486-4fc1a24234b7",
   "metadata": {},
   "outputs": [
    {
     "data": {
      "text/html": [
       "<pre>[True,\n",
       " False,\n",
       " False,\n",
       " True,\n",
       " False,\n",
       " False,\n",
       " False,\n",
       " False,\n",
       " False,\n",
       " False,\n",
       " ...,\n",
       " True,\n",
       " False,\n",
       " True,\n",
       " False,\n",
       " False,\n",
       " False,\n",
       " False,\n",
       " False,\n",
       " False]\n",
       "-------------------\n",
       "type: 299973 * bool</pre>"
      ],
      "text/plain": [
       "<Array [True, False, False, ..., False, False, False] type='299973 * bool'>"
      ]
     },
     "execution_count": 10,
     "metadata": {},
     "output_type": "execute_result"
    }
   ],
   "source": [
    "boolean_mask_1d = ak.fill_none(ak.max(dataset.Muon_pt, axis=PARTICLE) > 50, False)\n",
    "boolean_mask_1d"
   ]
  },
  {
   "cell_type": "markdown",
   "id": "35d9dde6-6744-4d27-b6cc-27dfb4d730af",
   "metadata": {},
   "source": [
    "Take an event if \"the number of muons with $p_T > 50$ GeV is $>= 1$.\""
   ]
  },
  {
   "cell_type": "code",
   "execution_count": 13,
   "id": "45306957-8810-45ee-8e67-728ed1714e48",
   "metadata": {},
   "outputs": [
    {
     "data": {
      "text/html": [
       "<pre>[True,\n",
       " False,\n",
       " False,\n",
       " True,\n",
       " False,\n",
       " False,\n",
       " False,\n",
       " False,\n",
       " False,\n",
       " False,\n",
       " ...,\n",
       " True,\n",
       " False,\n",
       " True,\n",
       " False,\n",
       " False,\n",
       " False,\n",
       " False,\n",
       " False,\n",
       " False]\n",
       "-------------------\n",
       "type: 299973 * bool</pre>"
      ],
      "text/plain": [
       "<Array [True, False, False, ..., False, False, False] type='299973 * bool'>"
      ]
     },
     "execution_count": 13,
     "metadata": {},
     "output_type": "execute_result"
    }
   ],
   "source": [
    "boolean_mask_1d = ak.num(dataset.Muon_pt[dataset.Muon_pt > 50]) >= 1\n",
    "boolean_mask_1d"
   ]
  },
  {
   "cell_type": "markdown",
   "id": "a78d4271-dc7e-41db-b8bf-ff7c6e147c00",
   "metadata": {},
   "source": [
    "Take an event if \"the number of muons in which '$p_T > 50$ GeV' is true (not zero) $>= 1$.\""
   ]
  },
  {
   "cell_type": "code",
   "execution_count": 15,
   "id": "8b753bfa-db14-4c22-ae4a-1f3505d92c04",
   "metadata": {},
   "outputs": [
    {
     "data": {
      "text/html": [
       "<pre>[True,\n",
       " False,\n",
       " False,\n",
       " True,\n",
       " False,\n",
       " False,\n",
       " False,\n",
       " False,\n",
       " False,\n",
       " False,\n",
       " ...,\n",
       " True,\n",
       " False,\n",
       " True,\n",
       " False,\n",
       " False,\n",
       " False,\n",
       " False,\n",
       " False,\n",
       " False]\n",
       "-------------------\n",
       "type: 299973 * bool</pre>"
      ],
      "text/plain": [
       "<Array [True, False, False, ..., False, False, False] type='299973 * bool'>"
      ]
     },
     "execution_count": 15,
     "metadata": {},
     "output_type": "execute_result"
    }
   ],
   "source": [
    "boolean_mask_1d = ak.count_nonzero(dataset.Muon_pt > 50, axis=PARTICLE) >= 1\n",
    "boolean_mask_1d"
   ]
  },
  {
   "cell_type": "markdown",
   "id": "8383cdf6-19b4-43f6-89ec-db47eb1654a5",
   "metadata": {},
   "source": [
    "Take an event if \"the sum of 'muon $p_T > 50$ GeV' (false = 0, true = 1) over particles is $>= 1$.\""
   ]
  },
  {
   "cell_type": "code",
   "execution_count": 16,
   "id": "1ca9a67d-36e8-4f9b-9199-21da5b455da7",
   "metadata": {},
   "outputs": [
    {
     "data": {
      "text/html": [
       "<pre>[True,\n",
       " False,\n",
       " False,\n",
       " True,\n",
       " False,\n",
       " False,\n",
       " False,\n",
       " False,\n",
       " False,\n",
       " False,\n",
       " ...,\n",
       " True,\n",
       " False,\n",
       " True,\n",
       " False,\n",
       " False,\n",
       " False,\n",
       " False,\n",
       " False,\n",
       " False]\n",
       "-------------------\n",
       "type: 299973 * bool</pre>"
      ],
      "text/plain": [
       "<Array [True, False, False, ..., False, False, False] type='299973 * bool'>"
      ]
     },
     "execution_count": 16,
     "metadata": {},
     "output_type": "execute_result"
    }
   ],
   "source": [
    "boolean_mask_1d = ak.sum(dataset.Muon_pt > 50, axis=PARTICLE) >= 1\n",
    "boolean_mask_1d"
   ]
  },
  {
   "cell_type": "markdown",
   "id": "fcc1832c-fc25-42b3-af36-0cf8e389f800",
   "metadata": {},
   "source": [
    "Apply it to the `dataset` as a slice. You get whole events (all fields) back."
   ]
  },
  {
   "cell_type": "code",
   "execution_count": 11,
   "id": "0e11dbd9-8e80-4635-ad76-c88920823a2c",
   "metadata": {},
   "outputs": [
    {
     "data": {
      "text/html": [
       "<pre>[{run: 1, luminosityBlock: 156, event: 46501, PV_npvs: 15, PV_x: 0.244, ...},\n",
       " {run: 1, luminosityBlock: 156, event: 46504, PV_npvs: 22, PV_x: 0.243, ...},\n",
       " {run: 1, luminosityBlock: 156, event: 46512, PV_npvs: 10, PV_x: 0.243, ...},\n",
       " {run: 1, luminosityBlock: 156, event: 46524, PV_npvs: 14, PV_x: 0.243, ...},\n",
       " {run: 1, luminosityBlock: 156, event: 46526, PV_npvs: 14, PV_x: 0.244, ...},\n",
       " {run: 1, luminosityBlock: 156, event: 46530, PV_npvs: 15, PV_x: 0.244, ...},\n",
       " {run: 1, luminosityBlock: 156, event: 46536, PV_npvs: 23, PV_x: 0.247, ...},\n",
       " {run: 1, luminosityBlock: 156, event: 46539, PV_npvs: 20, PV_x: 0.242, ...},\n",
       " {run: 1, luminosityBlock: 156, event: 46547, PV_npvs: 20, PV_x: 0.243, ...},\n",
       " {run: 1, luminosityBlock: 156, event: 46554, PV_npvs: 10, PV_x: 0.242, ...},\n",
       " ...,\n",
       " {run: 1, luminosityBlock: 996, event: 298698, PV_npvs: 27, PV_x: 0.244, ...},\n",
       " {run: 1, luminosityBlock: 996, event: 298703, PV_npvs: 12, PV_x: 0.242, ...},\n",
       " {run: 1, luminosityBlock: 996, event: 298710, PV_npvs: 30, PV_x: 0.245, ...},\n",
       " {run: 1, luminosityBlock: 996, event: 298726, PV_npvs: 20, PV_x: 0.244, ...},\n",
       " {run: 1, luminosityBlock: 996, event: 298759, PV_npvs: 29, PV_x: 0.247, ...},\n",
       " {run: 1, luminosityBlock: 996, event: 298760, PV_npvs: 11, PV_x: 0.245, ...},\n",
       " {run: 1, luminosityBlock: 996, event: 298781, PV_npvs: 16, PV_x: 0.243, ...},\n",
       " {run: 1, luminosityBlock: 996, event: 298792, PV_npvs: 24, PV_x: 0.244, ...},\n",
       " {run: 1, luminosityBlock: 996, event: 298794, PV_npvs: 24, PV_x: 0.245, ...}]\n",
       "------------------------------------------------------------------------------\n",
       "type: 37410 * {\n",
       "    run: int32,\n",
       "    luminosityBlock: uint32,\n",
       "    event: uint64,\n",
       "    PV_npvs: int32,\n",
       "    PV_x: float32,\n",
       "    PV_y: float32,\n",
       "    PV_z: float32,\n",
       "    nMuon: uint32,\n",
       "    Muon_pt: var * float32,\n",
       "    Muon_eta: var * float32,\n",
       "    Muon_phi: var * float32,\n",
       "    Muon_mass: var * float32,\n",
       "    Muon_charge: var * int32,\n",
       "    Muon_pfRelIso03_all: var * float32,\n",
       "    Muon_pfRelIso04_all: var * float32,\n",
       "    Muon_dxy: var * float32,\n",
       "    Muon_dxyErr: var * float32,\n",
       "    Muon_dz: var * float32,\n",
       "    Muon_dzErr: var * float32,\n",
       "    nElectron: uint32,\n",
       "    Electron_pt: var * float32,\n",
       "    Electron_eta: var * float32,\n",
       "    Electron_phi: var * float32,\n",
       "    Electron_mass: var * float32,\n",
       "    Electron_charge: var * int32,\n",
       "    Electron_pfRelIso03_all: var * float32,\n",
       "    Electron_dxy: var * float32,\n",
       "    Electron_dxyErr: var * float32,\n",
       "    Electron_dz: var * float32,\n",
       "    Electron_dzErr: var * float32,\n",
       "    MET_pt: float32,\n",
       "    MET_phi: float32\n",
       "}</pre>"
      ],
      "text/plain": [
       "<Array [{run: 1, ...}, ..., {run: 1, ...}] type='37410 * {run: int32, lumin...'>"
      ]
     },
     "execution_count": 11,
     "metadata": {},
     "output_type": "execute_result"
    }
   ],
   "source": [
    "dataset[boolean_mask_1d]"
   ]
  },
  {
   "cell_type": "markdown",
   "id": "0cb6ee22-fc39-4d98-8e2c-1abe04126e2c",
   "metadata": {},
   "source": [
    "Notice that the total number of events is lower, which is not the case for a particle cut."
   ]
  },
  {
   "cell_type": "markdown",
   "id": "71544443-60b3-4ade-b634-ed95196caaba",
   "metadata": {},
   "source": [
    "<br><br><br>"
   ]
  },
  {
   "cell_type": "markdown",
   "id": "da0cf312-2c68-4b0a-8166-cb99d9335895",
   "metadata": {},
   "source": [
    "### Awkward puzzle 3"
   ]
  },
  {
   "cell_type": "markdown",
   "id": "c653f09f-99cc-4071-86b1-1c0b62fd891f",
   "metadata": {},
   "source": [
    "This answer can have the same variety as puzzle 2 because it asks for any particle satisfying a condition."
   ]
  },
  {
   "cell_type": "code",
   "execution_count": 25,
   "id": "1bb8cd8e-b887-4ec0-bbf9-3e6ecfdb237a",
   "metadata": {},
   "outputs": [
    {
     "data": {
      "text/html": [
       "<pre>[False,\n",
       " False,\n",
       " False,\n",
       " True,\n",
       " False,\n",
       " True,\n",
       " False,\n",
       " False,\n",
       " False,\n",
       " False,\n",
       " ...,\n",
       " True,\n",
       " True,\n",
       " False,\n",
       " False,\n",
       " False,\n",
       " True,\n",
       " False,\n",
       " False,\n",
       " False]\n",
       "-------------------\n",
       "type: 299973 * bool</pre>"
      ],
      "text/plain": [
       "<Array [False, False, False, ..., False, False, False] type='299973 * bool'>"
      ]
     },
     "execution_count": 25,
     "metadata": {},
     "output_type": "execute_result"
    }
   ],
   "source": [
    "ak.any(dataset.Electron_pt > 10, axis=PARTICLE) & ak.any(dataset.Muon_pt > 5, axis=PARTICLE)"
   ]
  },
  {
   "cell_type": "markdown",
   "id": "969e1c6b-516c-49e7-9348-41931c0802a3",
   "metadata": {},
   "source": [
    "<br><br><br>"
   ]
  },
  {
   "cell_type": "markdown",
   "id": "cc76277c-a35f-45a7-a328-0661ad507640",
   "metadata": {},
   "source": [
    "### Awkward puzzle 4"
   ]
  },
  {
   "cell_type": "markdown",
   "id": "3ce6fba7-a57b-408a-94a7-89b5a1d585f5",
   "metadata": {},
   "source": [
    "You can use [ak.num](https://awkward-array.org/doc/main/reference/generated/ak.num.html) or the `nMuon` field of the `dataset`."
   ]
  },
  {
   "cell_type": "code",
   "execution_count": 18,
   "id": "e8c32538-08e5-44f8-9dee-2cc34f9729bd",
   "metadata": {},
   "outputs": [],
   "source": [
    "selected = dataset[ak.num(dataset.Muon_pt) == 2]"
   ]
  },
  {
   "cell_type": "markdown",
   "id": "dd4a5159-bd99-4130-95fb-4440f97abf47",
   "metadata": {},
   "source": [
    "Remember that the first axis is `EVENT` and we want all of them, so select `:`, then the second axis is `PARTICLE`."
   ]
  },
  {
   "cell_type": "code",
   "execution_count": 19,
   "id": "4b05b8fe-03d4-48f9-8af3-8a6f9d6e167d",
   "metadata": {},
   "outputs": [],
   "source": [
    "mu1 = selected.Muon_pt[:, 0]\n",
    "mu2 = selected.Muon_pt[:, 1]"
   ]
  },
  {
   "cell_type": "code",
   "execution_count": 20,
   "id": "2185db28-c89b-43c0-9aae-364ead19476b",
   "metadata": {},
   "outputs": [
    {
     "data": {
      "text/html": [
       "<pre>[38.5,\n",
       " 27.4,\n",
       " 43.4,\n",
       " 12.3,\n",
       " 39.6,\n",
       " 67.7,\n",
       " 47.4,\n",
       " 43.8,\n",
       " 16.7,\n",
       " 18.2,\n",
       " ...,\n",
       " 23.3,\n",
       " 8.73,\n",
       " 23.8,\n",
       " 39.3,\n",
       " 37.2,\n",
       " 43.2,\n",
       " 24.2,\n",
       " 9.81,\n",
       " 32.6]\n",
       "---------------------\n",
       "type: 85838 * float32</pre>"
      ],
      "text/plain": [
       "<Array [38.5, 27.4, 43.4, 12.3, ..., 24.2, 9.81, 32.6] type='85838 * float32'>"
      ]
     },
     "execution_count": 20,
     "metadata": {},
     "output_type": "execute_result"
    }
   ],
   "source": [
    "mu1"
   ]
  },
  {
   "cell_type": "code",
   "execution_count": 21,
   "id": "5f6eb4c9-780c-41c5-b74d-b25193ae16a0",
   "metadata": {},
   "outputs": [
    {
     "data": {
      "text/html": [
       "<pre>[47,\n",
       " 67.7,\n",
       " 43.2,\n",
       " 7.91,\n",
       " 3.7,\n",
       " 12.3,\n",
       " 31.3,\n",
       " 3.28,\n",
       " 6.12,\n",
       " 11.3,\n",
       " ...,\n",
       " 12.2,\n",
       " 22.1,\n",
       " 3.47,\n",
       " 9.87,\n",
       " 50.1,\n",
       " 24,\n",
       " 79.5,\n",
       " 25.5,\n",
       " 43.1]\n",
       "---------------------\n",
       "type: 85838 * float32</pre>"
      ],
      "text/plain": [
       "<Array [47, 67.7, 43.2, 7.91, ..., 24, 79.5, 25.5, 43.1] type='85838 * float32'>"
      ]
     },
     "execution_count": 21,
     "metadata": {},
     "output_type": "execute_result"
    }
   ],
   "source": [
    "mu2"
   ]
  },
  {
   "cell_type": "markdown",
   "id": "3df86d01-e067-4504-a5b9-c81d9948289d",
   "metadata": {},
   "source": [
    "<br><br><br>"
   ]
  },
  {
   "cell_type": "markdown",
   "id": "07b9e7c8-8cdd-4033-968c-f20255b5ace6",
   "metadata": {},
   "source": [
    "### Awkward puzzle 5"
   ]
  },
  {
   "cell_type": "code",
   "execution_count": 25,
   "id": "77378c40-f111-4584-9f29-8d65b4460fd8",
   "metadata": {},
   "outputs": [],
   "source": [
    "electrons = ak.zip({\n",
    "    \"pt\": dataset.Electron_pt,\n",
    "    \"phi\": dataset.Electron_phi,\n",
    "    \"eta\": dataset.Electron_eta,\n",
    "    \"mass\": dataset.Electron_mass,\n",
    "    \"charge\": dataset.Electron_charge,\n",
    "}, with_name=\"Momentum4D\")"
   ]
  },
  {
   "cell_type": "code",
   "execution_count": 26,
   "id": "daa30074-db34-4a9e-84e4-82c6f588bc73",
   "metadata": {},
   "outputs": [],
   "source": [
    "muons = ak.zip({\n",
    "    \"pt\": dataset.Muon_pt,\n",
    "    \"phi\": dataset.Muon_phi,\n",
    "    \"eta\": dataset.Muon_eta,\n",
    "    \"mass\": dataset.Muon_mass,\n",
    "    \"charge\": dataset.Muon_charge,\n",
    "}, with_name=\"Momentum4D\")"
   ]
  },
  {
   "cell_type": "code",
   "execution_count": 27,
   "id": "c6bb7577-88a3-4c6f-a7b4-bbf35286dd77",
   "metadata": {},
   "outputs": [],
   "source": [
    "selected_muons = muons[ak.num(muons) == 2]"
   ]
  },
  {
   "cell_type": "code",
   "execution_count": 28,
   "id": "78196b02-d27e-406e-9b6a-e1dc74cf1018",
   "metadata": {},
   "outputs": [
    {
     "data": {
      "text/html": [
       "<pre>[87.1,\n",
       " 90.5,\n",
       " 89.2,\n",
       " 18.8,\n",
       " 4.59,\n",
       " 37.2,\n",
       " 90.6,\n",
       " 8.91,\n",
       " 18.1,\n",
       " 27.5,\n",
       " ...,\n",
       " 31.2,\n",
       " 0.762,\n",
       " 14.3,\n",
       " 90.7,\n",
       " 90,\n",
       " 88.6,\n",
       " 88.8,\n",
       " 27.9,\n",
       " 90.5]\n",
       "---------------------\n",
       "type: 85838 * float32</pre>"
      ],
      "text/plain": [
       "<Array [87.1, 90.5, 89.2, 18.8, ..., 88.8, 27.9, 90.5] type='85838 * float32'>"
      ]
     },
     "execution_count": 28,
     "metadata": {},
     "output_type": "execute_result"
    }
   ],
   "source": [
    "result = (selected_muons[:, 0] + selected_muons[:, 1]).mass\n",
    "result"
   ]
  },
  {
   "cell_type": "code",
   "execution_count": 32,
   "id": "9633a561-8c54-498c-900b-1e270e1284b3",
   "metadata": {},
   "outputs": [
    {
     "data": {
      "image/png": "[encoded data removed]",
      "text/plain": [
       "<Figure size 640x480 with 1 Axes>"
      ]
     },
     "metadata": {},
     "output_type": "display_data"
    }
   ],
   "source": [
    "Hist.new.Reg(100, 0, 100, name=\"mass (GeV)\").Double().fill(\n",
    "    result\n",
    ").plot();"
   ]
  },
  {
   "cell_type": "markdown",
   "id": "186199cd-d317-49cb-8601-b16bd5d961c8",
   "metadata": {},
   "source": [
    "<br><br><br>"
   ]
  }
 ],
 "metadata": {
  "kernelspec": {
   "display_name": "Python 3 (ipykernel)",
   "language": "python",
   "name": "python3"
  },
  "language_info": {
   "codemirror_mode": {
    "name": "ipython",
    "version": 3
   },
   "file_extension": ".py",
   "mimetype": "text/x-python",
   "name": "python",
   "nbconvert_exporter": "python",
   "pygments_lexer": "ipython3",
   "version": "3.11.9"
  }
 },
 "nbformat": 4,
 "nbformat_minor": 5
}
