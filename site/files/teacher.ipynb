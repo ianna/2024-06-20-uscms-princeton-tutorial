{
 "cells": [
  {
   "cell_type": "code",
   "execution_count": null,
   "id": "641f8e14-8bd9-4a63-871a-900ece5fb0c1",
   "metadata": {},
   "outputs": [],
   "source": [
    "from communication import collect_answers"
   ]
  },
  {
   "cell_type": "code",
   "execution_count": null,
   "id": "c5a60ca6-4a20-44f6-94b8-2869a0582587",
   "metadata": {},
   "outputs": [],
   "source": [
    "collect_answers()"
   ]
  },
  {
   "cell_type": "code",
   "execution_count": null,
   "id": "475a858a-fcfc-4215-876e-8e0fec58f5c2",
   "metadata": {},
   "outputs": [],
   "source": []
  }
 ],
 "metadata": {
  "kernelspec": {
   "display_name": "Python 3 (ipykernel)",
   "language": "python",
   "name": "python3"
  },
  "language_info": {
   "codemirror_mode": {
    "name": "ipython",
    "version": 3
   },
   "file_extension": ".py",
   "mimetype": "text/x-python",
   "name": "python",
   "nbconvert_exporter": "python",
   "pygments_lexer": "ipython3",
   "version": "3.11.9"
  }
 },
 "nbformat": 4,
 "nbformat_minor": 5
}
