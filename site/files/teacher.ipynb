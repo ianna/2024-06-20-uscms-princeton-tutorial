{
 "cells": [
  {
   "cell_type": "code",
   "execution_count": 1,
   "id": "641f8e14-8bd9-4a63-871a-900ece5fb0c1",
   "metadata": {},
   "outputs": [],
   "source": [
    "from communication import collect_answers"
   ]
  },
  {
   "cell_type": "code",
   "execution_count": 2,
   "id": "4fe488f2-7fb4-4876-aec0-d679ea336229",
   "metadata": {},
   "outputs": [
    {
     "data": {
      "text/html": [
       "<div style=\"font-size: 1.5em; margin: 1em;\"><div class=\"highlight\"><pre><span></span><span class=\"n\">answer_url</span> <span class=\"o\">=</span> <span class=\"s2\">&quot;http://192.168.1.224:8000&quot;</span>\n",
       "\n",
       "<span class=\"n\">send_answer</span><span class=\"p\">(</span><span class=\"n\">answer_url</span><span class=\"p\">,</span> <span class=\"o\">&lt;</span><span class=\"n\">OUTPUT</span> <span class=\"n\">NUMBER</span><span class=\"o\">&gt;</span><span class=\"p\">)</span>\n",
       "</pre></div>\n",
       "</div>"
      ],
      "text/plain": [
       "<IPython.core.display.HTML object>"
      ]
     },
     "metadata": {},
     "output_type": "display_data"
    },
    {
     "data": {
      "text/html": [
       "<details><summary style=\"font-weight: bold;\">Answer 1</summary><div class=\"highlight\"><pre><span></span><span class=\"kn\">from</span> <span class=\"nn\">communication</span> <span class=\"kn\">import</span> <span class=\"n\">send_answer</span>\n",
       "</pre></div>\n",
       "</details>"
      ],
      "text/plain": [
       "<IPython.core.display.HTML object>"
      ]
     },
     "metadata": {},
     "output_type": "display_data"
    },
    {
     "data": {
      "text/html": [
       "<p style=\"font-size: 1.5em; margin: 1em;\">Stopped collecting answers.</p>"
      ],
      "text/plain": [
       "<IPython.core.display.HTML object>"
      ]
     },
     "metadata": {},
     "output_type": "display_data"
    }
   ],
   "source": [
    "collect_answers()"
   ]
  },
  {
   "cell_type": "code",
   "execution_count": null,
   "id": "f4cbdb7b-b5b7-46ea-a7cc-67824f17ee75",
   "metadata": {},
   "outputs": [],
   "source": []
  }
 ],
 "metadata": {
  "kernelspec": {
   "display_name": "Python 3 (ipykernel)",
   "language": "python",
   "name": "python3"
  },
  "language_info": {
   "codemirror_mode": {
    "name": "ipython",
    "version": 3
   },
   "file_extension": ".py",
   "mimetype": "text/x-python",
   "name": "python",
   "nbconvert_exporter": "python",
   "pygments_lexer": "ipython3",
   "version": "3.11.9"
  }
 },
 "nbformat": 4,
 "nbformat_minor": 5
}
