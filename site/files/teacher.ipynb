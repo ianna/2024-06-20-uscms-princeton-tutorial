{
 "cells": [
  {
   "cell_type": "code",
   "execution_count": null,
   "id": "641f8e14-8bd9-4a63-871a-900ece5fb0c1",
   "metadata": {},
   "outputs": [],
   "source": [
    "from communication import collect_answers"
   ]
  },
  {
   "cell_type": "code",
   "execution_count": null,
   "id": "4fe488f2-7fb4-4876-aec0-d679ea336229",
   "metadata": {},
   "outputs": [],
   "source": [
    "collect_answers()"
   ]
  },
  {
   "cell_type": "code",
   "execution_count": null,
   "id": "f4cbdb7b-b5b7-46ea-a7cc-67824f17ee75",
   "metadata": {},
   "outputs": [],
   "source": []
  }
 ],
 "metadata": {
  "kernelspec": {
   "display_name": "Python 3 (ipykernel)",
   "language": "python",
   "name": "python3"
  },
  "language_info": {
   "codemirror_mode": {
    "name": "ipython",
    "version": 3
   },
   "file_extension": ".py",
   "mimetype": "text/x-python",
   "name": "python",
   "nbconvert_exporter": "python",
   "pygments_lexer": "ipython3",
   "version": "3.11.9"
  }
 },
 "nbformat": 4,
 "nbformat_minor": 5
}
