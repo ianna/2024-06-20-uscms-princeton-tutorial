{
 "cells": [
  {
   "cell_type": "markdown",
   "id": "59147d08-51ce-4159-9abd-651f81c3b75c",
   "metadata": {},
   "source": [
    "# Columnar analysis and Awkward Array"
   ]
  },
  {
   "cell_type": "markdown",
   "id": "a6fe4cfa-a3d0-4da6-a2de-1395c916b4ee",
   "metadata": {},
   "source": [
    "<br><br><br>"
   ]
  },
  {
   "cell_type": "markdown",
   "id": "9783cb5c-facc-4e0d-a383-0a4aca94651c",
   "metadata": {},
   "source": [
    "## Introduction"
   ]
  },
  {
   "cell_type": "markdown",
   "id": "03f041fa-ae7b-4f63-8d28-e8e1a8178f9b",
   "metadata": {},
   "source": [
    "\"Columnar\" is an overloaded term. I've used it in two different ways:\n",
    "\n",
    "* arranging data in memory or on disk in ways that allow faster and selective readout (some types of TTree data have been columnar since 1995)\n",
    "* performing computations explicitly on arrays of data, rather than scalar values: \"no for loops!\"\n",
    "\n",
    "Only the second one directly impacts physicists doing analysis.\n",
    "\n",
    "I prefer calling it \"array-oriented programming,\" as a programming paradigm like \"imperative\" and \"functional.\""
   ]
  },
  {
   "cell_type": "markdown",
   "id": "81b8fc79-7d09-434d-820c-ab617b78cf52",
   "metadata": {},
   "source": [
    "<br><br><br>"
   ]
  },
  {
   "cell_type": "markdown",
   "id": "0071a32b-27c5-424a-950f-ae05658f1bd7",
   "metadata": {},
   "source": [
    "### Easy example of imperative, functional, and array-oriented"
   ]
  },
  {
   "cell_type": "markdown",
   "id": "b819e8de-40a5-4b89-8fdf-c07b247ae525",
   "metadata": {},
   "source": [
    "Compute the square of every element in a list/array."
   ]
  },
  {
   "cell_type": "markdown",
   "id": "bcf67389-3ec3-4982-8372-f4546b6bc331",
   "metadata": {},
   "source": [
    "<br><br><br>"
   ]
  },
  {
   "cell_type": "markdown",
   "id": "dcf0790c-d914-416e-8d08-0af148ed0502",
   "metadata": {},
   "source": [
    "#### Imperative"
   ]
  },
  {
   "cell_type": "code",
   "execution_count": null,
   "id": "fa7a8088-4cec-4408-98b0-6e278507db0e",
   "metadata": {},
   "outputs": [],
   "source": [
    "original = [1, 2, 3, 4, 5, 6, 7, 8, 9, 10]\n",
    "\n",
    "result = []\n",
    "for x in original:\n",
    "    result.append(x**2)\n",
    "\n",
    "result"
   ]
  },
  {
   "cell_type": "markdown",
   "id": "1b9078a9-c978-4c66-bb3c-061663ac3616",
   "metadata": {},
   "source": [
    "<br><br><br>"
   ]
  },
  {
   "cell_type": "markdown",
   "id": "13089810-a60c-4e75-b355-f03b572397a2",
   "metadata": {},
   "source": [
    "#### Functional"
   ]
  },
  {
   "cell_type": "code",
   "execution_count": null,
   "id": "8069234d-c088-4831-afbc-b3ca3aa246da",
   "metadata": {},
   "outputs": [],
   "source": [
    "original = [1, 2, 3, 4, 5, 6, 7, 8, 9, 10]\n",
    "\n",
    "result = list(map(lambda x: x**2, original))\n",
    "\n",
    "result"
   ]
  },
  {
   "cell_type": "markdown",
   "id": "19cd0449-e9f8-4b9d-8e9e-fc863f4659a5",
   "metadata": {},
   "source": [
    "Functional programming with `map` isn't common in Python, but list comprehensions are pretty close to the \"spirit\" of functional programming:"
   ]
  },
  {
   "cell_type": "code",
   "execution_count": null,
   "id": "39093afc-403a-4d71-aea6-972a743ad85c",
   "metadata": {},
   "outputs": [],
   "source": [
    "original = [1, 2, 3, 4, 5, 6, 7, 8, 9, 10]\n",
    "\n",
    "result = [x**2 for x in original]\n",
    "\n",
    "result"
   ]
  },
  {
   "cell_type": "markdown",
   "id": "14788d8f-c260-479d-a507-f2a25843cf9a",
   "metadata": {},
   "source": [
    "<br><br><br>"
   ]
  },
  {
   "cell_type": "markdown",
   "id": "d24db4bc-4df2-4965-859a-6906e12cb02c",
   "metadata": {},
   "source": [
    "#### Array-oriented"
   ]
  },
  {
   "cell_type": "code",
   "execution_count": null,
   "id": "f66a04e2-7d5c-43ee-b276-525d56ca41bc",
   "metadata": {},
   "outputs": [],
   "source": [
    "import numpy as np"
   ]
  },
  {
   "cell_type": "code",
   "execution_count": null,
   "id": "69481b80-67bc-4510-980f-7f0b75e1f314",
   "metadata": {},
   "outputs": [],
   "source": [
    "original = np.array([1, 2, 3, 4, 5, 6, 7, 8, 9, 10])\n",
    "\n",
    "result = original**2\n",
    "\n",
    "result"
   ]
  },
  {
   "cell_type": "markdown",
   "id": "fa9f3b65-92c3-45f3-a442-2a6d00222f63",
   "metadata": {},
   "source": [
    "<br><br><br>"
   ]
  },
  {
   "cell_type": "markdown",
   "id": "38c5b36d-d280-46fe-a388-254f9f33e899",
   "metadata": {},
   "source": [
    "### Hard example of imperative, functional, and array-oriented"
   ]
  },
  {
   "cell_type": "markdown",
   "id": "defbf97e-cb67-4867-9c47-88f0d6112f40",
   "metadata": {},
   "source": [
    "Compute gravitational forces among $n$ particles."
   ]
  },
  {
   "cell_type": "code",
   "execution_count": null,
   "id": "4667e37b-f66b-4962-b4f3-0df78619012a",
   "metadata": {},
   "outputs": [],
   "source": [
    "m = np.array([100, 1, 1])   # sun and a double-planet (a 3-body problem)\n",
    "\n",
    "# initial position (x) and momentum (p)\n",
    "x = np.array([[0, 0, 0], [0, 0.9, 0], [0, 1.1, 0]])\n",
    "p = np.array([[0, 0, 0], [-13, 0, 0], [-10, 0, 0]])\n",
    "\n",
    "G = 1"
   ]
  },
  {
   "cell_type": "markdown",
   "id": "9e1761eb-795a-4a3e-9be9-a19d09ae27b4",
   "metadata": {},
   "source": [
    "<br><br><br>"
   ]
  },
  {
   "cell_type": "markdown",
   "id": "07f8eee3-a28c-4fb7-97f1-4bb40761df89",
   "metadata": {},
   "source": [
    "#### Imperative"
   ]
  },
  {
   "cell_type": "code",
   "execution_count": null,
   "id": "83356175-f47f-48be-9c2c-a4ca41fc590f",
   "metadata": {},
   "outputs": [],
   "source": [
    "def imperative_forces(m, x, p):\n",
    "    total_force = np.zeros_like(x)\n",
    "\n",
    "    for i in range(len(x)):\n",
    "        for j in range(i + 1, len(x)):\n",
    "            if i != j:\n",
    "                mi, mj = m[i], m[j]\n",
    "                xi, xj = x[i], x[j]\n",
    "                pi, pj = p[i], p[j]\n",
    "                displacement = [\n",
    "                    xj[0] - xi[0],\n",
    "                    xj[1] - xi[1],\n",
    "                    xj[2] - xi[2],\n",
    "                ]\n",
    "                distance = np.sqrt(displacement[0]**2 + displacement[1]**2 + displacement[2]**2)\n",
    "                direction = [\n",
    "                    displacement[0] / distance,\n",
    "                    displacement[1] / distance,\n",
    "                    displacement[2] / distance,\n",
    "                ]\n",
    "                force = [\n",
    "                    G * mi * mj * direction[0] / distance**2,\n",
    "                    G * mi * mj * direction[1] / distance**2,\n",
    "                    G * mi * mj * direction[2] / distance**2,\n",
    "                ]\n",
    "                total_force[i, 0] += force[0]\n",
    "                total_force[i, 1] += force[1]\n",
    "                total_force[i, 2] += force[2]\n",
    "                total_force[j, 0] += -force[0]\n",
    "                total_force[j, 1] += -force[1]\n",
    "                total_force[j, 2] += -force[2]\n",
    "\n",
    "    return total_force"
   ]
  },
  {
   "cell_type": "markdown",
   "id": "052f9d11-db01-4bac-b48f-6fcbb56b92c7",
   "metadata": {},
   "source": [
    "<br><br><br>"
   ]
  },
  {
   "cell_type": "markdown",
   "id": "d31f9300-ae3e-4fab-87a2-0dda183a1f07",
   "metadata": {},
   "source": [
    "#### Functional"
   ]
  },
  {
   "cell_type": "code",
   "execution_count": null,
   "id": "9414bd2f-0fe6-4a45-8bb1-cf39b63b96ef",
   "metadata": {},
   "outputs": [],
   "source": [
    "from functools import reduce\n",
    "from itertools import combinations"
   ]
  },
  {
   "cell_type": "code",
   "execution_count": null,
   "id": "6a3899a7-2c02-444a-a5e6-bb244dc38157",
   "metadata": {},
   "outputs": [],
   "source": [
    "def functional_forces(m, x, p):\n",
    "    def negate(vector):\n",
    "        return [-a for a in vector]\n",
    "\n",
    "    def add(*vectors):\n",
    "        return [reduce(lambda a, b: a + b, components) for components in zip(*vectors)]\n",
    "\n",
    "    def subtract(vectorA, vectorB):\n",
    "        return add(vectorA, negate(vectorB))\n",
    "\n",
    "    def magnitude(vector):\n",
    "        return np.sqrt(reduce(lambda a, b: a + b, map(lambda a: a**2, vector)))\n",
    "\n",
    "    def force(mi, mj, xi, xj, pi, pj):\n",
    "        displacement = subtract(xi, xj)\n",
    "        distance = magnitude(displacement)\n",
    "        direction = [a / distance for a in displacement]\n",
    "        return [G * mi * mj * a / distance**2 for a in direction]\n",
    "\n",
    "    pairwise_forces = [\n",
    "        ((i, j), force(mi, mj, xi, xj, pi, pj))\n",
    "        for ((i, (mi, xi, pi)), (j, (mj, xj, pj))) in combinations(enumerate(zip(m, x, p)), 2)\n",
    "    ]\n",
    "\n",
    "    def partial_forces(pairwise_forces, i):\n",
    "        return (\n",
    "            [force for (_, check), force in pairwise_forces if i == check] +\n",
    "            [negate(force) for (check, _), force in pairwise_forces if i == check]\n",
    "        )\n",
    "\n",
    "    return np.array([add(*partial_forces(pairwise_forces, i)) for i in range(len(m))])"
   ]
  },
  {
   "cell_type": "markdown",
   "id": "25ed891c-e0f0-4477-be81-be55319f4d38",
   "metadata": {},
   "source": [
    "<br><br><br>"
   ]
  },
  {
   "cell_type": "markdown",
   "id": "ddf02d35-9a9c-4be1-8fa2-7177b4c5e554",
   "metadata": {},
   "source": [
    "#### Array-oriented"
   ]
  },
  {
   "cell_type": "code",
   "execution_count": null,
   "id": "da3160cf-c7fa-4c9a-baf2-03c260e74679",
   "metadata": {},
   "outputs": [],
   "source": [
    "def array_forces(m, x, p):\n",
    "    i, j = np.triu_indices(len(x), k=1)\n",
    "    pw_displacement = x[j] - x[i]\n",
    "    pw_distance = np.sqrt(np.sum(pw_displacement**2, axis=-1))\n",
    "    pw_direction = pw_displacement / pw_distance[:, np.newaxis]\n",
    "    pw_force = G * m[i, np.newaxis] * m[j, np.newaxis] * pw_direction / pw_distance[:, np.newaxis]**2\n",
    "    total_force = np.zeros_like(x)\n",
    "    np.add.at(total_force, i, pw_force)\n",
    "    np.add.at(total_force, j, -pw_force)\n",
    "    return total_force"
   ]
  },
  {
   "cell_type": "markdown",
   "id": "7de4ce74-371c-4944-9b91-8b2b14ef4e6c",
   "metadata": {},
   "source": [
    "<br><br><br>"
   ]
  },
  {
   "cell_type": "code",
   "execution_count": null,
   "id": "a5c19b2d-7b31-470a-b114-1b73b98048d2",
   "metadata": {},
   "outputs": [],
   "source": [
    "imperative_forces(m, x, p)"
   ]
  },
  {
   "cell_type": "code",
   "execution_count": null,
   "id": "1616b1f3-84a1-4ab1-828f-03ca0e7e833c",
   "metadata": {},
   "outputs": [],
   "source": [
    "functional_forces(m, x, p)"
   ]
  },
  {
   "cell_type": "code",
   "execution_count": null,
   "id": "db9fe607-79da-4349-afd8-acc65ecedc0e",
   "metadata": {},
   "outputs": [],
   "source": [
    "array_forces(m, x, p)"
   ]
  },
  {
   "cell_type": "markdown",
   "id": "80bf7393-f3fd-4d06-a484-8db74db2f1d3",
   "metadata": {},
   "source": [
    "<br><br><br>"
   ]
  },
  {
   "cell_type": "markdown",
   "id": "cb9d02e5-2821-4d3c-a483-6996832da29e",
   "metadata": {},
   "source": [
    "#### Let's see it!"
   ]
  },
  {
   "cell_type": "code",
   "execution_count": null,
   "id": "3b509b7d-fe6d-4188-a087-d30df0a459e3",
   "metadata": {},
   "outputs": [],
   "source": [
    "import matplotlib.pyplot as plt\n",
    "from matplotlib import animation\n",
    "from IPython.display import HTML"
   ]
  },
  {
   "cell_type": "code",
   "execution_count": null,
   "id": "be77d6f1-fb94-47e6-905f-73d9cfaa9c5a",
   "metadata": {},
   "outputs": [],
   "source": [
    "def array_step(m, x, p, dt):\n",
    "    # this is a numerically stable way of updating positions, momenta, and forces\n",
    "    p += array_forces(m, x, p) * (dt/2)    # half kick\n",
    "    x += p * dt / m[:, np.newaxis]         # full drift\n",
    "    p += array_forces(m, x, p) * (dt/2)    # half kick"
   ]
  },
  {
   "cell_type": "code",
   "execution_count": null,
   "id": "dfe62bd9-539a-4498-8248-30b89971b07d",
   "metadata": {},
   "outputs": [],
   "source": [
    "def plot(m, x, p, dt, num_frames=100, steps_per_frame=10):\n",
    "    num_particles = len(m)\n",
    "\n",
    "    history = np.empty((num_frames, num_particles, 2))\n",
    "    for i in range(num_frames):\n",
    "        history[i, :, 0] = x[:, 0]\n",
    "        history[i, :, 1] = x[:, 1]\n",
    "        for _ in range(steps_per_frame):\n",
    "            array_step(m, x, p, dt)\n",
    "\n",
    "    fig, ax = plt.subplots(figsize=(5, 5))\n",
    "\n",
    "    lines = []\n",
    "    for j in range(num_particles):\n",
    "        lines.append(ax.plot(history[:1, j, 0], history[:1, j, 1])[0])\n",
    "    dots = ax.scatter(history[0, :, 0], history[0, :, 1])\n",
    "\n",
    "    ax.set_xlim(-2, 2)\n",
    "    ax.set_ylim(-2, 2)\n",
    "\n",
    "    def update(i):\n",
    "        for j, line in enumerate(lines):\n",
    "            line.set_xdata(history[:i, j, 0])\n",
    "            line.set_ydata(history[:i, j, 1])\n",
    "        dots.set_offsets(history[i, :, :])\n",
    "        return [*lines, dots]\n",
    "\n",
    "    ani = animation.FuncAnimation(fig=fig, func=update, frames=num_frames, interval=50, blit=True)\n",
    "    out = HTML(ani.to_jshtml())\n",
    "    plt.close()\n",
    "    return out"
   ]
  },
  {
   "cell_type": "code",
   "execution_count": null,
   "id": "6e1b954a-651e-4bda-b693-b100ec6244ad",
   "metadata": {},
   "outputs": [],
   "source": [
    "m = np.array([100, 1, 1], np.float64)\n",
    "x = np.array([[0, 0, 0], [0, 0.9, 0], [0, 1.1, 0]], np.float64)\n",
    "p = np.array([[0, 0, 0], [-13, 0, 0], [-10, 0, 0]], np.float64)\n",
    "\n",
    "plot(m, x, p, dt=0.001)"
   ]
  },
  {
   "cell_type": "code",
   "execution_count": null,
   "id": "e74b130e-2d71-4e00-9552-2999afdcfc1c",
   "metadata": {},
   "outputs": [],
   "source": [
    "a = 0.347111\n",
    "b = 0.532728\n",
    "m = np.array([1, 1, 1], np.float64)\n",
    "x = np.array([[-1, 0, 0], [1, 0, 0], [0, 0, 0]], np.float64)\n",
    "p = np.array([[a, b, 0], [a, b, 0], [-2 * a, -2 * b, 0]], np.float64)\n",
    "\n",
    "plot(m, x, p, dt=0.01)"
   ]
  },
  {
   "cell_type": "code",
   "execution_count": null,
   "id": "c50f3084-370b-4ae4-b787-70589ec27821",
   "metadata": {},
   "outputs": [],
   "source": [
    "m = np.ones(25)\n",
    "x = np.random.normal(0, 1, (25, 3))\n",
    "p = np.random.normal(0, 1, (25, 3))\n",
    "\n",
    "plot(m, x, p, dt=0.0025)"
   ]
  },
  {
   "cell_type": "markdown",
   "id": "9de9d069-a3e8-45a2-9900-bf0224025c73",
   "metadata": {},
   "source": [
    "<br><br><br>"
   ]
  },
  {
   "cell_type": "markdown",
   "id": "08747c2b-6325-4417-9a30-b43105d8eebf",
   "metadata": {},
   "source": [
    "#### Let's time it!"
   ]
  },
  {
   "cell_type": "code",
   "execution_count": null,
   "id": "83f8b420-2464-4dc3-8e1e-b0c8a75a517a",
   "metadata": {},
   "outputs": [],
   "source": [
    "m = np.ones(500)\n",
    "x = np.random.normal(0, 1, (500, 3))\n",
    "p = np.random.normal(0, 1, (500, 3))"
   ]
  },
  {
   "cell_type": "code",
   "execution_count": null,
   "id": "9e97bd0d-593f-47c8-be41-6f1f0f919f5a",
   "metadata": {},
   "outputs": [],
   "source": [
    "%%timeit -n1 -r1\n",
    "\n",
    "imperative_forces(m, x, p)"
   ]
  },
  {
   "cell_type": "code",
   "execution_count": null,
   "id": "d638b796-40f2-4ce2-98d8-6213d5b5e669",
   "metadata": {},
   "outputs": [],
   "source": [
    "%%timeit -n1 -r1\n",
    "\n",
    "functional_forces(m, x, p)"
   ]
  },
  {
   "cell_type": "code",
   "execution_count": null,
   "id": "4612aa7e-5400-4241-9f2d-360a87596655",
   "metadata": {},
   "outputs": [],
   "source": [
    "%%timeit -n1 -r1\n",
    "\n",
    "array_forces(m, x, p)"
   ]
  },
  {
   "cell_type": "markdown",
   "id": "2ad729d9-df0f-4238-8fc6-70f01ad17b96",
   "metadata": {},
   "source": [
    "<br><br><br>"
   ]
  },
  {
   "cell_type": "markdown",
   "id": "065d55e1-a90c-4e1d-938c-0a060e348843",
   "metadata": {},
   "source": [
    "In Python, array-oriented programming is a big advantage because it avoids Python's overhead (virtual machine, dynamic data types, garbage collection, etc).\n",
    "\n",
    "* `imperative_forces` has 25 lines of Python × 500 × 499 pairs of particles (effectively, 6237500 Python steps)\n",
    "* `functional_forces` has ??? (hard to say, with all the functional indirection)\n",
    "* `array_forces` has 9 lines of Python (9 Python steps) and all iteration over pairs of particles is in compiled code."
   ]
  },
  {
   "cell_type": "markdown",
   "id": "1ae0d200-11b5-4de1-b61d-ee7995ad7dff",
   "metadata": {},
   "source": [
    "<br><br><br>"
   ]
  },
  {
   "cell_type": "markdown",
   "id": "590654c6-6c31-4995-9d61-360d7a9f49dd",
   "metadata": {},
   "source": [
    "This is also relevant for GPU programming.\n",
    "\n",
    "To get the most performance out of GPU programming frameworks like CUDA, you need to arrange the computation as array-at-a-time and think about vectorization."
   ]
  },
  {
   "cell_type": "markdown",
   "id": "351a46ce-5721-4246-9b11-b5538f1538be",
   "metadata": {},
   "source": [
    "<br><br><br>"
   ]
  },
  {
   "cell_type": "markdown",
   "id": "c814b0ca-7f9b-4acc-b52e-5e900f44e775",
   "metadata": {},
   "source": [
    "### What if imperative code is easier to reason about?"
   ]
  },
  {
   "cell_type": "markdown",
   "id": "04df81d5-9f54-4586-8860-3ef4e3a677e6",
   "metadata": {},
   "source": [
    "Sometimes it is.\n",
    "\n",
    "If it's easier to think about a problem imperatively, but the loop would iterate over some large number, just make sure Python isn't implementing the loop.\n",
    "\n",
    "* Just-In-Time (JIT) compile it with [Numba](https://numba.pydata.org/).\n",
    "* Use ROOT's [RDataFrame](https://root.cern/doc/master/classROOT_1_1RDataFrame.html) to compile and run C++ over ROOT data.\n",
    "* Use [cppyy](https://cppyy.readthedocs.io/) to compile and run C++ over arbitrary data.\n",
    "* Use [Julia](https://julialang.org/).\n",
    "* Use [pybind11](https://pybind11.readthedocs.io/) to compile a Python extension in C++ or [PyO3](https://pyo3.rs/) to compile a Python extension in Rust.\n",
    "\n",
    "All of these involve more set-up time to get started than array-oriented programming, but may be easier to deal with in the long run, depending on the problem."
   ]
  },
  {
   "cell_type": "markdown",
   "id": "d49c7055-f3d5-45ab-a616-7786c870fa18",
   "metadata": {},
   "source": [
    "<br><br><br>"
   ]
  },
  {
   "cell_type": "markdown",
   "id": "c6d614ec-32b7-4fdc-a819-2decd7903d20",
   "metadata": {},
   "source": [
    "## This tutorial"
   ]
  },
  {
   "cell_type": "markdown",
   "id": "e71f4892-513a-413d-ae4b-3c069d33ac82",
   "metadata": {},
   "source": [
    "This tutorial will be about array-oriented programming in Python.\n",
    "\n",
    "Exploring and analyzing data in an array-oriented way is a useful skill.\n",
    "\n",
    "It's organized as a set of puzzles that we'll solve together. Open [student.ipynb](student.ipynb) and test the `send_answer` function now."
   ]
  },
  {
   "cell_type": "code",
   "execution_count": null,
   "id": "641f8e14-8bd9-4a63-871a-900ece5fb0c1",
   "metadata": {},
   "outputs": [],
   "source": [
    "from communication import collect_answers"
   ]
  },
  {
   "cell_type": "code",
   "execution_count": null,
   "id": "c5a60ca6-4a20-44f6-94b8-2869a0582587",
   "metadata": {},
   "outputs": [],
   "source": [
    "collect_answers()"
   ]
  },
  {
   "cell_type": "markdown",
   "id": "89993818-8f2f-4e8e-890d-723c3e00d8d6",
   "metadata": {},
   "source": [
    "<br><br><br>"
   ]
  },
  {
   "cell_type": "markdown",
   "id": "c3781888-85df-490a-9d91-9d84d0eb1d9f",
   "metadata": {},
   "source": [
    "## Puzzles"
   ]
  },
  {
   "cell_type": "code",
   "execution_count": null,
   "id": "abadff75-952b-429c-bc24-af86b054474c",
   "metadata": {},
   "outputs": [],
   "source": [
    "import numpy as np"
   ]
  },
  {
   "cell_type": "markdown",
   "id": "420e370f-a06e-4bea-9e75-823e8db027e3",
   "metadata": {},
   "source": [
    "<br><br><br>"
   ]
  },
  {
   "cell_type": "markdown",
   "id": "5e12d815-087c-4677-99a3-5893dfbf9fb4",
   "metadata": {},
   "source": [
    "### Puzzle 1"
   ]
  },
  {
   "cell_type": "markdown",
   "id": "6fff5f77-2a25-410a-bc0d-4c6b9dcf613c",
   "metadata": {},
   "source": [
    "Given a 3D array,"
   ]
  },
  {
   "cell_type": "code",
   "execution_count": null,
   "id": "400ba67e-83bf-4f62-83d2-0f4fec192a91",
   "metadata": {},
   "outputs": [],
   "source": [
    "array3d = np.arange(2 * 3 * 5).reshape(2, 3, 5)\n",
    "array3d"
   ]
  },
  {
   "cell_type": "markdown",
   "id": "dc3d3e90-5cdb-45d9-bd51-bf81b2081ca6",
   "metadata": {},
   "source": [
    "you can select items\n",
    "\n",
    "<img src=\"img/array3d-highlight1.svg\" width=\"50%\">\n",
    "\n",
    "with"
   ]
  },
  {
   "cell_type": "code",
   "execution_count": null,
   "id": "cfbbf441-1cb1-4cd9-b18f-594b1993bf23",
   "metadata": {},
   "outputs": [],
   "source": [
    "array3d[:, 1:, 1:]"
   ]
  },
  {
   "cell_type": "markdown",
   "id": "fe1c0e4e-e1e4-4f4e-bbb2-fc8c96648cf8",
   "metadata": {},
   "source": [
    "Write a slice the selects these elements:\n",
    "\n",
    "<img src=\"img/array3d-highlight2.svg\" width=\"50%\">"
   ]
  },
  {
   "cell_type": "code",
   "execution_count": null,
   "id": "4f8d4f50-0879-4eeb-9d61-284f326013a8",
   "metadata": {},
   "outputs": [],
   "source": [
    "collect_answers()"
   ]
  },
  {
   "cell_type": "code",
   "execution_count": null,
   "id": "20a5e0f8-9373-422a-86bc-d1d6e2829647",
   "metadata": {},
   "outputs": [],
   "source": []
  },
  {
   "cell_type": "markdown",
   "id": "3d50ee4a-6319-49d6-bc85-5dcaf6206ce3",
   "metadata": {},
   "source": [
    "<br><br><br>"
   ]
  },
  {
   "cell_type": "markdown",
   "id": "83559b0f-e904-4eb3-b45d-479ce5c7b72a",
   "metadata": {},
   "source": [
    "### Puzzle 2"
   ]
  },
  {
   "cell_type": "markdown",
   "id": "b30933e0-5649-4dc4-8c8a-be6175088a45",
   "metadata": {},
   "source": [
    "Compute the size of the spaces between consecutive elements in the following array."
   ]
  },
  {
   "cell_type": "code",
   "execution_count": null,
   "id": "f2dd475c-78c5-46e2-9ea6-48f17ff72764",
   "metadata": {},
   "outputs": [],
   "source": [
    "array = np.array([1.1, 2.2, 3.3, 4.4, 5.5, 6.6, 7.7, 8.8, 9.9])\n",
    "array"
   ]
  },
  {
   "cell_type": "markdown",
   "id": "1271bd22-8a37-43a7-8094-dbcb34ebe42a",
   "metadata": {},
   "source": [
    "**Hint:**\n",
    "\n",
    "<img src=\"img/flat-operation.svg\" width=\"50%\"><img src=\"img/shifted-operation.svg\" width=\"50%\">"
   ]
  },
  {
   "cell_type": "code",
   "execution_count": null,
   "id": "69760176-c2a8-4f8f-8cd3-0225f5550690",
   "metadata": {},
   "outputs": [],
   "source": [
    "collect_answers()"
   ]
  },
  {
   "cell_type": "code",
   "execution_count": null,
   "id": "79c4bf9e-fe15-453b-a300-b73601f0abe0",
   "metadata": {},
   "outputs": [],
   "source": []
  },
  {
   "cell_type": "markdown",
   "id": "b450772a-b4ae-4c4e-85cc-e739b4f34ee2",
   "metadata": {},
   "source": [
    "<br><br><br>"
   ]
  },
  {
   "cell_type": "markdown",
   "id": "beef92b7-0b92-44d8-b878-62d65d560083",
   "metadata": {},
   "source": [
    "### Puzzle 3"
   ]
  },
  {
   "cell_type": "markdown",
   "id": "efcd64d0-a384-426f-8beb-1b9ca8fd9ee4",
   "metadata": {},
   "source": [
    "Compute the length of this curve.\n",
    "\n",
    "<img src=\"img/length-by-segment.svg\" width=\"50%\">"
   ]
  },
  {
   "cell_type": "code",
   "execution_count": null,
   "id": "f8ecae77-aeec-4a05-aef4-52d2301c8240",
   "metadata": {},
   "outputs": [],
   "source": [
    "t = np.linspace(0, 2*np.pi, 10000)\n",
    "x = np.sin(3*t)\n",
    "y = np.sin(4*t)"
   ]
  },
  {
   "cell_type": "code",
   "execution_count": null,
   "id": "437b6129-bfc1-4a14-8d83-b52a51242432",
   "metadata": {},
   "outputs": [],
   "source": [
    "import matplotlib.pyplot as plt"
   ]
  },
  {
   "cell_type": "code",
   "execution_count": null,
   "id": "129d719d-79d4-4a1a-815a-3807e4e95d19",
   "metadata": {},
   "outputs": [],
   "source": [
    "plt.plot(x, y);"
   ]
  },
  {
   "cell_type": "code",
   "execution_count": null,
   "id": "0de961fb-0b36-42ff-b952-4b5e43830d59",
   "metadata": {},
   "outputs": [],
   "source": [
    "collect_answers()"
   ]
  },
  {
   "cell_type": "code",
   "execution_count": null,
   "id": "43175d9b-c957-4705-8394-451b86729e4c",
   "metadata": {},
   "outputs": [],
   "source": []
  },
  {
   "cell_type": "markdown",
   "id": "2d90e316-f276-49f8-aeb0-533217071915",
   "metadata": {},
   "source": [
    "<br><br><br>"
   ]
  },
  {
   "cell_type": "markdown",
   "id": "f5ddbcd0-7ba1-41fc-8a70-e156629e3128",
   "metadata": {},
   "source": [
    "### Puzzle 4"
   ]
  },
  {
   "cell_type": "markdown",
   "id": "e6f10384-6ec5-41a4-8a2a-ef68b770b1f8",
   "metadata": {},
   "source": [
    "Scale this image down by a factor of 64 on both sides, using only [np.reshape](https://numpy.org/doc/stable/reference/generated/numpy.reshape.html), [np.mean](https://numpy.org/doc/stable/reference/generated/numpy.mean.html), and [np.ndarray.astype](https://numpy.org/doc/stable/reference/generated/numpy.ndarray.astype.html)."
   ]
  },
  {
   "cell_type": "code",
   "execution_count": null,
   "id": "a385ff2c-00be-4b35-abb7-f41034c9aa87",
   "metadata": {},
   "outputs": [],
   "source": [
    "import matplotlib.image"
   ]
  },
  {
   "cell_type": "code",
   "execution_count": null,
   "id": "9691cf7e-e336-4272-90d6-cae92327d853",
   "metadata": {},
   "outputs": [],
   "source": [
    "image = matplotlib.image.imread(\"data/sun-shines-in-CMS.jpg\")\n",
    "plt.imshow(image);"
   ]
  },
  {
   "cell_type": "markdown",
   "id": "6dd45687-3541-4f0d-8996-e516766596dd",
   "metadata": {},
   "source": [
    "The current shape is"
   ]
  },
  {
   "cell_type": "code",
   "execution_count": null,
   "id": "5ecd7f58-a164-4dca-9653-1242ca604e76",
   "metadata": {},
   "outputs": [],
   "source": [
    "image.shape"
   ]
  },
  {
   "cell_type": "markdown",
   "id": "cd372d6c-1fd4-4abf-a623-9a488bc96abe",
   "metadata": {},
   "source": [
    "1920 rows, 2560 columns, and the third axis is for (red, green, blue), all `np.uint8`.\n",
    "\n",
    "Your strategy should be to reshape the array, such that the dimension of length `1920` becomes two new dimensions of length `1920 // 64` and `64` and the dimension of length `2560` becomes two new dimensions of length `2560 // 64` and `64`. Then average over each of the dimensions of length `64`.\n",
    "\n",
    "The shape should change as\n",
    "\n",
    "$$\\left(1920, 2560, 3\\right) \\to \\left(\\frac{1920}{64}, 64, \\frac{2560}{64}, 64, 3\\right) \\to \\left(\\frac{1920}{64}, \\frac{2560}{64}, 3\\right)$$\n",
    "\n",
    "and then you need to turn the floating-point dtype back into unsigned 8-bit integers with [np.ndarray.astype](https://numpy.org/doc/stable/reference/generated/numpy.ndarray.astype.html)."
   ]
  },
  {
   "cell_type": "code",
   "execution_count": null,
   "id": "43f89b97-8da5-41a2-bd35-fc892567425f",
   "metadata": {},
   "outputs": [],
   "source": [
    "collect_answers()"
   ]
  },
  {
   "cell_type": "code",
   "execution_count": null,
   "id": "538efcec-5b25-4f1c-92f6-b05f5eac2926",
   "metadata": {},
   "outputs": [],
   "source": []
  },
  {
   "cell_type": "markdown",
   "id": "922e498f-b0a1-4239-876b-1f3ef18227b0",
   "metadata": {},
   "source": [
    "<br><br><br>"
   ]
  },
  {
   "cell_type": "markdown",
   "id": "b34c8c67-75ad-4c67-a67d-70357ca37780",
   "metadata": {},
   "source": [
    "### Puzzle 5"
   ]
  },
  {
   "cell_type": "markdown",
   "id": "f5bb022f-85ba-46c7-b119-6a79cc2e9868",
   "metadata": {},
   "source": [
    "Let's interpret some raw ROOT data!"
   ]
  },
  {
   "cell_type": "code",
   "execution_count": null,
   "id": "18f443ee-151f-4ab8-b19c-87304c89d666",
   "metadata": {},
   "outputs": [],
   "source": [
    "import zlib"
   ]
  },
  {
   "cell_type": "code",
   "execution_count": null,
   "id": "40a199c7-0422-4b24-a701-1c3b9be5485f",
   "metadata": {},
   "outputs": [],
   "source": [
    "with open(\"data/SMHiggsToZZTo4L.root\", \"rb\") as file:\n",
    "    file.seek(42104123)\n",
    "    compressed_data = file.read(14718)\n",
    "    uncompressed_data = uncompressed_data = zlib.decompress(compressed_data)\n",
    "    array_of_uint8 = np.frombuffer(uncompressed_data, np.uint8, 12524)"
   ]
  },
  {
   "cell_type": "code",
   "execution_count": null,
   "id": "a3c6657c-e67a-4a16-9ce6-81ff862706f5",
   "metadata": {},
   "outputs": [],
   "source": [
    "array_of_uint8"
   ]
  },
  {
   "cell_type": "markdown",
   "id": "9666a79e-1cf1-4534-91e1-58a2cb9b126e",
   "metadata": {},
   "source": [
    "This should be 3131 floating-point muon $p_T$ values.\n",
    "\n",
    "But if we view the data as `float32`, the orders of magnitude are all wrong:"
   ]
  },
  {
   "cell_type": "code",
   "execution_count": null,
   "id": "f6055fbd-261b-4985-8ec2-89255f5da781",
   "metadata": {},
   "outputs": [],
   "source": [
    "array_of_uint8.view(np.float32)"
   ]
  },
  {
   "cell_type": "markdown",
   "id": "f339dd5e-595c-4715-b6d8-2b1dbe9bbb61",
   "metadata": {},
   "source": [
    "That's because the data are [big endian](https://en.wikipedia.org/wiki/Endianness) and this computer is little-endian.\n",
    "\n",
    "NumPy has a way to view \"wrong\"-endian data, but operations on it aren't as efficient."
   ]
  },
  {
   "cell_type": "code",
   "execution_count": null,
   "id": "ce0fd7f0-4e18-4442-a8a2-3e393f701248",
   "metadata": {},
   "outputs": [],
   "source": [
    "array_of_uint8.view(\">f4\")"
   ]
  },
  {
   "cell_type": "markdown",
   "id": "cf56d71b-4e80-41a7-9421-6f8f2e9dd871",
   "metadata": {},
   "source": [
    "To fix the endianness, you'll need to reverse the order of bytes _in groups of 4_.\n",
    "\n",
    "<img src=\"img/big-little-endian.svg\" width=\"75%\">\n",
    "\n",
    "Fix the endianness with only [np.reshape](https://numpy.org/doc/stable/reference/generated/numpy.reshape.html) and a slice."
   ]
  },
  {
   "cell_type": "code",
   "execution_count": null,
   "id": "38cb2e2b-dc5d-41f4-a235-a0f30e334647",
   "metadata": {},
   "outputs": [],
   "source": [
    "collect_answers()"
   ]
  },
  {
   "cell_type": "code",
   "execution_count": null,
   "id": "5b3258b3-e642-4648-802f-42f1e643b96f",
   "metadata": {},
   "outputs": [],
   "source": []
  },
  {
   "cell_type": "markdown",
   "id": "55b2e743-2de6-4e1b-97c0-215c8154d51c",
   "metadata": {},
   "source": [
    "<br><br><br>"
   ]
  },
  {
   "cell_type": "markdown",
   "id": "7a30ad5b-c88d-4e48-90b9-eaeefdf88505",
   "metadata": {},
   "source": [
    "### Puzzle 6"
   ]
  }
 ],
 "metadata": {
  "kernelspec": {
   "display_name": "Python 3 (ipykernel)",
   "language": "python",
   "name": "python3"
  },
  "language_info": {
   "codemirror_mode": {
    "name": "ipython",
    "version": 3
   },
   "file_extension": ".py",
   "mimetype": "text/x-python",
   "name": "python",
   "nbconvert_exporter": "python",
   "pygments_lexer": "ipython3",
   "version": "3.11.9"
  }
 },
 "nbformat": 4,
 "nbformat_minor": 5
}
